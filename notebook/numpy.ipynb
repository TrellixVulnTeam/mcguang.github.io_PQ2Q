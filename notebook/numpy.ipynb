{
 "cells": [
  {
   "cell_type": "code",
   "execution_count": 1,
   "metadata": {
    "collapsed": true
   },
   "outputs": [],
   "source": [
    "import numpy as np"
   ]
  },
  {
   "cell_type": "markdown",
   "metadata": {},
   "source": [
    "* 定义numpy数组"
   ]
  },
  {
   "cell_type": "code",
   "execution_count": 26,
   "metadata": {
    "collapsed": true
   },
   "outputs": [],
   "source": [
    "a = np.array([1,2,3,4])\n",
    "b = np.array([5,6,7,8])"
   ]
  },
  {
   "cell_type": "markdown",
   "metadata": {},
   "source": [
    "* 数组类型及形状"
   ]
  },
  {
   "cell_type": "code",
   "execution_count": 29,
   "metadata": {
    "collapsed": false
   },
   "outputs": [
    {
     "name": "stdout",
     "output_type": "stream",
     "text": [
      "type of c:int64\n",
      "shape of c: (3, 4)\n",
      "[[1 2 3 4]\n",
      " [3 4 5 6]\n",
      " [5 6 7 8]]\n",
      "new shape of c: (4, 3)\n",
      "[[1 2 3]\n",
      " [4 3 4]\n",
      " [5 6 5]\n",
      " [6 7 8]]\n",
      "[[1 2 3 4 3 4]\n",
      " [5 6 5 6 7 8]]\n"
     ]
    }
   ],
   "source": [
    "c = np.array([[1,2,3,4], [3,4,5,6], [5,6,7,8]])\n",
    "print \"type of c:\" + str(c.dtype) # 数据类型\n",
    "print \"shape of c: \" + str(c.shape) # 数组形状\n",
    "print c\n",
    "c.shape = 4,3 # reshape 数组,这不同于转置,只是改变了形状,数组内部数据的相对位置并没有改变\n",
    "print \"new shape of c: \" + str(c.shape)\n",
    "print c\n",
    "c.shape = 2,-1 # 当数组某个轴,元素为-1时,将根据数组元素的个数自动计算此轴的长度\n",
    "print c"
   ]
  },
  {
   "cell_type": "code",
   "execution_count": 14,
   "metadata": {
    "collapsed": false
   },
   "outputs": [
    {
     "name": "stdout",
     "output_type": "stream",
     "text": [
      "(4, 3)\n"
     ]
    }
   ],
   "source": [
    "c.shape = 4,3\n",
    "print c.shape"
   ]
  },
  {
   "cell_type": "code",
   "execution_count": 12,
   "metadata": {
    "collapsed": false
   },
   "outputs": [
    {
     "data": {
      "text/plain": [
       "array([[1, 2, 3],\n",
       "       [4, 3, 4],\n",
       "       [5, 6, 5],\n",
       "       [6, 7, 8]])"
      ]
     },
     "execution_count": 12,
     "metadata": {},
     "output_type": "execute_result"
    }
   ],
   "source": [
    "c"
   ]
  },
  {
   "cell_type": "code",
   "execution_count": null,
   "metadata": {
    "collapsed": true
   },
   "outputs": [],
   "source": []
  }
 ],
 "metadata": {
  "kernelspec": {
   "display_name": "Python 2",
   "language": "python",
   "name": "python2"
  },
  "language_info": {
   "codemirror_mode": {
    "name": "ipython",
    "version": 2
   },
   "file_extension": ".py",
   "mimetype": "text/x-python",
   "name": "python",
   "nbconvert_exporter": "python",
   "pygments_lexer": "ipython2",
   "version": "2.7.11"
  }
 },
 "nbformat": 4,
 "nbformat_minor": 0
}

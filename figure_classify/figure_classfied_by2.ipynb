{
 "cells": [
  {
   "cell_type": "code",
   "execution_count": 15,
   "metadata": {
    "collapsed": false
   },
   "outputs": [],
   "source": [
    "import matplotlib.pyplot as plt\n",
    "import numpy as np\n",
    "import os\n",
    "import tarfile\n",
    "import urllib\n",
    "from scipy import ndimage\n",
    "from sklearn.linear_model import LogisticRegression\n",
    "import cPickle as pickle\n",
    "import tensorflow as tf\n"
   ]
  },
  {
   "cell_type": "code",
   "execution_count": 16,
   "metadata": {
    "collapsed": false
   },
   "outputs": [
    {
     "data": {
      "image/jpeg": "[encoded data removed]",
      "text/plain": [
       "<IPython.core.display.Image object>"
      ]
     },
     "metadata": {},
     "output_type": "display_data"
    },
    {
     "data": {
      "image/jpeg": "[encoded data removed]",
      "text/plain": [
       "<IPython.core.display.Image object>"
      ]
     },
     "metadata": {},
     "output_type": "display_data"
    },
    {
     "data": {
      "image/jpeg": "[encoded data removed]",
      "text/plain": [
       "<IPython.core.display.Image object>"
      ]
     },
     "metadata": {},
     "output_type": "display_data"
    },
    {
     "data": {
      "image/jpeg": "[encoded data removed]",
      "text/plain": [
       "<IPython.core.display.Image object>"
      ]
     },
     "metadata": {},
     "output_type": "display_data"
    }
   ],
   "source": [
    "num_classes = 2\n",
    "from IPython.display import Image,display\n",
    "listOfImageName=['./image_64/label_64_64_0/361123201502011309E03655_1.JPG',\n",
    "                './image_64/label_64_64_0/361124201508011107L06095_3.JPG',\n",
    "                './image_64/label_64_64_1/361125201505011209L55757_3.JPG',\n",
    "                './image_64/label_64_64_1/361129201504011309EF7139_1.JPG']\n",
    "for imageName in listOfImageName:\n",
    "    display(Image(filename=imageName))"
   ]
  },
  {
   "cell_type": "code",
   "execution_count": 19,
   "metadata": {
    "collapsed": false
   },
   "outputs": [
    {
     "name": "stdout",
     "output_type": "stream",
     "text": [
      "10\n"
     ]
    }
   ],
   "source": [
    "x = 10\n",
    "print x"
   ]
  },
  {
   "cell_type": "code",
   "execution_count": 4,
   "metadata": {
    "collapsed": false
   },
   "outputs": [
    {
     "name": "stdout",
     "output_type": "stream",
     "text": [
      "/Users/meicg/Documents/MATLAB/label_64_0\n",
      "/Users/meicg/Documents/MATLAB/label_64_1\n",
      "Full dataset tensor: (19774, 64, 64, 3)\n",
      "Mean: -0.173262\n",
      "Standard deviation: 0.223332\n",
      "Labels: (19774,)\n"
     ]
    }
   ],
   "source": [
    "image_size = 64  # Pixel width and height.\n",
    "channel = 3\n",
    "pixel_depth = 255.0  # Number of levels per pixel.\n",
    "folders = ['/Users/meicg/Documents/MATLAB/label_64_0',\n",
    "            '/Users/meicg/Documents/MATLAB/label_64_1']\n",
    "\n",
    "def load(data_folders, min_num_images, max_num_images):\n",
    "  dataset = np.ndarray(\n",
    "    shape=(max_num_images, image_size, image_size, channel), dtype=np.float32)\n",
    "  labels = np.ndarray(shape=(max_num_images), dtype=np.int32)\n",
    "  label_index = 0\n",
    "  image_index = 0\n",
    "  for folder in data_folders:\n",
    "    print folder\n",
    "    for image in os.listdir(folder):\n",
    "      if image_index >= max_num_images:\n",
    "        raise Exception('More images than expected: %d >= %d' % (\n",
    "          num_images, max_num_images))\n",
    "      image_file = os.path.join(folder, image)\n",
    "      try:\n",
    "        image_data = (ndimage.imread(image_file).astype(float) -\n",
    "                      pixel_depth / 2) / pixel_depth\n",
    "        if image_data.shape != (image_size, image_size,channel):\n",
    "          raise Exception('Unexpected image shape: %s' % str(image_data.shape))\n",
    "        dataset[image_index, :, :, :] = image_data\n",
    "        labels[image_index] = label_index\n",
    "        image_index += 1\n",
    "      except IOError as e:\n",
    "        print 'Could not read:', image_file, ':', e, '- it\\'s ok, skipping.'\n",
    "    label_index += 1\n",
    "  num_images = image_index\n",
    "  dataset = dataset[0:num_images, :, :, :]\n",
    "  labels = labels[0:num_images]\n",
    "  if num_images < min_num_images:\n",
    "    raise Exception('Many fewer images than expected: %d < %d' % (\n",
    "        num_images, min_num_images))\n",
    "  print 'Full dataset tensor:', dataset.shape\n",
    "  print 'Mean:', np.mean(dataset)\n",
    "  print 'Standard deviation:', np.std(dataset)\n",
    "  print 'Labels:', labels.shape\n",
    "  return dataset, labels\n",
    "dataset, labels = load(folders, 10000, 20000)\n"
   ]
  },
  {
   "cell_type": "code",
   "execution_count": 4,
   "metadata": {
    "collapsed": false
   },
   "outputs": [
    {
     "name": "stdout",
     "output_type": "stream",
     "text": [
      "/Users/meicg/Desktop/already_ok/four2one_64\n",
      "Full dataset tensor: (1910, 64, 64, 3)\n",
      "Mean: -0.163134\n",
      "Standard deviation: 0.239894\n"
     ]
    }
   ],
   "source": [
    "testFolders = ['/Users/meicg/Desktop/already_ok/four2one_64'];\n",
    "\n",
    "def loadTestImages(data_folders,min_num_images, max_num_images):\n",
    "  dataset = np.ndarray(\n",
    "    shape=(max_num_images, image_size, image_size, channel), dtype=np.float32)\n",
    "  image_index = 0\n",
    "  for folder in data_folders:\n",
    "    print folder\n",
    "    for image in os.listdir(folder):\n",
    "      image_file = os.path.join(folder, image)\n",
    "      try:\n",
    "        image_data = (ndimage.imread(image_file).astype(float) -\n",
    "                      pixel_depth / 2) / pixel_depth\n",
    "        if image_data.shape != (image_size, image_size,channel):\n",
    "          raise Exception('Unexpected image shape: %s' % str(image_data.shape))\n",
    "        dataset[image_index, :, :, :] = image_data\n",
    "        image_index += 1\n",
    "      except IOError as e:\n",
    "        print 'Could not read:', image_file, ':', e, '- it\\'s ok, skipping.'\n",
    "  num_images = image_index\n",
    "  dataset = dataset[0:num_images, :, :, :]\n",
    "  print 'Full dataset tensor:', dataset.shape\n",
    "  print 'Mean:', np.mean(dataset)\n",
    "  print 'Standard deviation:', np.std(dataset)\n",
    "  return dataset\n",
    "\n",
    "testDataSet = loadTestImages(testFolders, 1000, 3000)"
   ]
  },
  {
   "cell_type": "code",
   "execution_count": 5,
   "metadata": {
    "collapsed": true
   },
   "outputs": [],
   "source": [
    "np.random.seed(133)\n",
    "def randomize(dataset, labels):\n",
    "  permutation = np.random.permutation(labels.shape[0])\n",
    "  shuffled_dataset = dataset[permutation,:,:]\n",
    "  shuffled_labels = labels[permutation]\n",
    "  return shuffled_dataset, shuffled_labels\n",
    "dataset, labels = randomize(dataset, labels)"
   ]
  },
  {
   "cell_type": "code",
   "execution_count": 6,
   "metadata": {
    "collapsed": false
   },
   "outputs": [
    {
     "name": "stdout",
     "output_type": "stream",
     "text": [
      "Training (15000, 64, 64, 3) (15000,)\n",
      "Validation (2350, 64, 64, 3) (2350,)\n",
      "Test (2400, 64, 64, 3) (2400,)\n"
     ]
    }
   ],
   "source": [
    "train_size = 15000\n",
    "valid_size = 2350\n",
    "test_size = 2400\n",
    "\n",
    "valid_dataset = dataset[:valid_size,:,:,:]\n",
    "valid_labels = labels[:valid_size]\n",
    "train_dataset = dataset[valid_size:valid_size+train_size,:,:,:]\n",
    "train_labels = labels[valid_size:valid_size+train_size]\n",
    "test_dataset = dataset[valid_size+train_size:train_size+valid_size+test_size,:,:,:]\n",
    "test_labels = labels[valid_size+train_size:train_size+valid_size+test_size]\n",
    "\n",
    "print 'Training', train_dataset.shape, train_labels.shape\n",
    "print 'Validation', valid_dataset.shape, valid_labels.shape\n",
    "print 'Test', test_dataset.shape, test_labels.shape"
   ]
  },
  {
   "cell_type": "code",
   "execution_count": 7,
   "metadata": {
    "collapsed": false
   },
   "outputs": [
    {
     "name": "stdout",
     "output_type": "stream",
     "text": [
      "Training set (15000, 64, 64, 3) (15000, 2)\n",
      "Validation set (2350, 64, 64, 3) (2350, 2)\n",
      "Test set (2400, 64, 64, 3) (2400, 2)\n"
     ]
    }
   ],
   "source": [
    "image_size = 64\n",
    "num_labels = 2\n",
    "num_channels = 3 # grayscale\n",
    "\n",
    "import numpy as np\n",
    "\n",
    "def reformat(dataset, labels):\n",
    "  dataset = dataset.reshape(\n",
    "    (-1, image_size, image_size, num_channels)).astype(np.float32)\n",
    "  labels = (np.arange(num_labels) == labels[:,None]).astype(np.float32)\n",
    "  return dataset, labels\n",
    "train_dataset, train_labels = reformat(train_dataset, train_labels)\n",
    "valid_dataset, valid_labels = reformat(valid_dataset, valid_labels)\n",
    "test_dataset, test_labels = reformat(test_dataset, test_labels)\n",
    "print 'Training set', train_dataset.shape, train_labels.shape\n",
    "print 'Validation set', valid_dataset.shape, valid_labels.shape\n",
    "print 'Test set', test_dataset.shape, test_labels.shape"
   ]
  },
  {
   "cell_type": "code",
   "execution_count": 8,
   "metadata": {
    "collapsed": true
   },
   "outputs": [],
   "source": [
    "def accuracy(predictions, labels):\n",
    "  return (100.0 * np.sum(np.argmax(predictions, 1) == np.argmax(labels, 1))\n",
    "          / predictions.shape[0])"
   ]
  },
  {
   "cell_type": "code",
   "execution_count": 9,
   "metadata": {
    "collapsed": false
   },
   "outputs": [],
   "source": [
    "batch_size = 128\n",
    "patch_size = 5\n",
    "depth = 16\n",
    "num_hidden = 512\n",
    "lamada = 0.02\n",
    "graph = tf.Graph()\n",
    "\n",
    "with graph.as_default():\n",
    "\n",
    "  # Input data.\n",
    "  tf_train_dataset = tf.placeholder(\n",
    "    tf.float32, shape=(batch_size, image_size, image_size, num_channels))\n",
    "  tf_train_labels = tf.placeholder(tf.float32, shape=(batch_size, num_labels))\n",
    "  tf_valid_dataset = tf.constant(valid_dataset)\n",
    "  tf_test_dataset = tf.constant(test_dataset)\n",
    "  #tf_classify_dataset = tf.constant(testDataSet)\n",
    "  \n",
    "  # Variables.\n",
    "  conv1_weights = tf.Variable(tf.truncated_normal(\n",
    "      [patch_size, patch_size, num_channels, depth], stddev=0.1))\n",
    "  conv1_biases = tf.Variable(tf.zeros([depth]))\n",
    "  conv2_weights = tf.Variable(tf.truncated_normal(\n",
    "      [patch_size, patch_size, depth, depth*2], stddev=0.1))\n",
    "  conv2_biases = tf.Variable(tf.constant(0.0, shape=[depth*2]))\n",
    "  conv3_weights = tf.Variable(tf.truncated_normal(\n",
    "      [patch_size, patch_size, depth*2, depth*4], stddev=0.1))\n",
    "  conv3_biases = tf.Variable(tf.constant(0.0, shape=[depth*4]))\n",
    "  conv4_weights = tf.Variable(tf.truncated_normal(\n",
    "      [patch_size, patch_size, depth*4, depth*8], stddev=0.1))\n",
    "  conv4_biases = tf.Variable(tf.constant(1.0, shape=[depth*8]))\n",
    "\n",
    "\n",
    "  full_weights = tf.Variable(tf.truncated_normal(\n",
    "      [image_size / 16 * image_size / 16 * depth*8, num_hidden], stddev=0.1))\n",
    "  full_biases = tf.Variable(tf.constant(0.0, shape=[num_hidden]))\n",
    "  softmax_weights = tf.Variable(tf.truncated_normal(\n",
    "      [num_hidden, num_labels], stddev=0.1))\n",
    "  softmax_biases = tf.Variable(tf.constant(0.0, shape=[num_labels]))\n",
    "\n",
    "  # Dropout.\n",
    "  keep_prob = tf.placeholder(\"float\")\n",
    "  \n",
    "  # Model.\n",
    "  def model(data):\n",
    "    conv_1 = tf.nn.conv2d(data, conv1_weights, [1, 1, 1, 1], padding='SAME')\n",
    "    relu_1 = tf.nn.relu(conv_1 + conv1_biases)\n",
    "    max_pool_1 = tf.nn.max_pool(relu_1, ksize = [1, 2, 2, 1], strides = [1, 2, 2, 1],padding = 'SAME')\n",
    "    \n",
    "    conv_2 = tf.nn.conv2d(max_pool_1, conv2_weights, [1, 1, 1, 1], padding='SAME')\n",
    "    relu_2 = tf.nn.relu(conv_2 + conv2_biases)\n",
    "    max_pool_2 = tf.nn.max_pool(relu_2, ksize = [1, 2, 2, 1], strides = [1, 2, 2, 1],padding = 'SAME')\n",
    "    \n",
    "    conv_3 = tf.nn.conv2d(max_pool_2, conv3_weights, [1, 1, 1, 1], padding='SAME')\n",
    "    relu_3 = tf.nn.relu(conv_3 + conv3_biases)\n",
    "    max_pool_3 = tf.nn.max_pool(relu_3, ksize = [1, 2, 2, 1], strides = [1, 2, 2, 1],padding = 'SAME')\n",
    "    \n",
    "    conv_4 = tf.nn.conv2d(max_pool_3, conv4_weights, [1, 1, 1, 1], padding='SAME')\n",
    "    relu_4 = tf.nn.relu(conv_4 + conv4_biases)\n",
    "    max_pool_4 = tf.nn.max_pool(relu_4, ksize = [1, 2, 2, 1], strides = [1, 2, 2, 1],padding = 'SAME')\n",
    "    \n",
    "    shape = max_pool_4.get_shape().as_list()\n",
    "    reshape = tf.reshape(max_pool_4, [shape[0], shape[1] * shape[2] * shape[3]])\n",
    "    full_layer = tf.nn.relu(tf.matmul(reshape, full_weights) + full_biases)\n",
    "    softmax_layer = tf.nn.dropout(full_layer, keep_prob)\n",
    "    return tf.matmul(softmax_layer, softmax_weights) + softmax_biases\n",
    "  \n",
    "  # Training computation.\n",
    "  logits = model(tf_train_dataset)\n",
    "     \n",
    "  loss = tf.reduce_mean(\n",
    "     tf.nn.softmax_cross_entropy_with_logits(logits, tf_train_labels) + \n",
    "     lamada*(tf.nn.l2_loss(conv1_weights) + tf.nn.l2_loss(conv2_weights) + \n",
    "          tf.nn.l2_loss(conv3_weights) + tf.nn.l2_loss(conv4_weights) + \n",
    "          tf.nn.l2_loss(full_weights) + tf.nn.l2_loss(softmax_weights) ))\n",
    "\n",
    "  optimizer = tf.train.GradientDescentOptimizer(0.02).minimize(loss)\n",
    "  \n",
    "  # Predictions for the training, validation, and test data.\n",
    "  train_prediction = tf.nn.softmax(logits)\n",
    "  valid_prediction = tf.nn.softmax(model(tf_valid_dataset))\n",
    "  test_prediction = tf.nn.softmax(model(tf_test_dataset))\n",
    "  #classify_prediction = tf.nn.softmax(model(tf_classify_dataset))\n",
    "  saver = tf.train.Saver()"
   ]
  },
  {
   "cell_type": "code",
   "execution_count": 14,
   "metadata": {
    "collapsed": false
   },
   "outputs": [
    {
     "name": "stdout",
     "output_type": "stream",
     "text": [
      "Initialized\n",
      "Minibatch loss at step 0 : 0.464019\n",
      "Minibatch accuracy: 94.5%\n",
      "Validation accuracy: 85.2%\n",
      "Minibatch loss at step 100 : 0.521478\n",
      "Minibatch accuracy: 90.6%\n",
      "Validation accuracy: 83.0%\n",
      "Minibatch loss at step 200 : 0.495593\n",
      "Minibatch accuracy: 94.5%\n",
      "Validation accuracy: 84.2%\n",
      "Minibatch loss at step 300 : 0.422308\n",
      "Minibatch accuracy: 96.9%\n",
      "Validation accuracy: 85.2%\n",
      "Minibatch loss at step 400 : 0.42554\n",
      "Minibatch accuracy: 96.9%\n",
      "Validation accuracy: 85.8%\n",
      "Minibatch loss at step 500 : 0.42019\n",
      "Minibatch accuracy: 98.4%\n",
      "Validation accuracy: 85.3%\n",
      "Minibatch loss at step 600 : 0.561798\n",
      "Minibatch accuracy: 89.8%\n",
      "Validation accuracy: 77.9%\n",
      "Minibatch loss at step 700 : 0.424771\n",
      "Minibatch accuracy: 98.4%\n",
      "Validation accuracy: 84.2%\n",
      "Minibatch loss at step 800 : 0.430948\n",
      "Minibatch accuracy: 96.9%\n",
      "Validation accuracy: 86.3%\n",
      "Minibatch loss at step 900 : 0.417079\n",
      "Minibatch accuracy: 97.7%\n",
      "Validation accuracy: 85.7%\n",
      "Minibatch loss at step 1000 : 0.428648\n",
      "Minibatch accuracy: 97.7%\n",
      "Validation accuracy: 85.4%\n",
      "Minibatch loss at step 1100 : 0.512445\n",
      "Minibatch accuracy: 90.6%\n",
      "Validation accuracy: 84.1%\n",
      "Minibatch loss at step 1200 : 0.477086\n",
      "Minibatch accuracy: 92.2%\n",
      "Validation accuracy: 80.6%\n",
      "Minibatch loss at step 1300 : 0.50151\n",
      "Minibatch accuracy: 93.8%\n",
      "Validation accuracy: 82.4%\n",
      "Minibatch loss at step 1400 : 0.431941\n",
      "Minibatch accuracy: 96.9%\n",
      "Validation accuracy: 82.0%\n",
      "Minibatch loss at step 1500 : 0.452855\n",
      "Minibatch accuracy: 95.3%\n",
      "Validation accuracy: 86.1%\n",
      "Minibatch loss at step 1600 : 0.411516\n",
      "Minibatch accuracy: 97.7%\n",
      "Validation accuracy: 85.2%\n",
      "Minibatch loss at step 1700 : 0.447433\n",
      "Minibatch accuracy: 96.9%\n",
      "Validation accuracy: 76.9%\n",
      "Minibatch loss at step 1800 : 0.441816\n",
      "Minibatch accuracy: 96.1%\n",
      "Validation accuracy: 85.4%\n",
      "Minibatch loss at step 1900 : 0.411238\n",
      "Minibatch accuracy: 98.4%\n",
      "Validation accuracy: 85.3%\n",
      "Minibatch loss at step 2000 : 0.452606\n",
      "Minibatch accuracy: 96.1%\n",
      "Validation accuracy: 85.8%\n",
      "Minibatch loss at step 2100 : 0.432195\n",
      "Minibatch accuracy: 97.7%\n",
      "Validation accuracy: 85.0%\n",
      "Minibatch loss at step 2200 : 0.449185\n",
      "Minibatch accuracy: 96.1%\n",
      "Validation accuracy: 85.9%\n",
      "Minibatch loss at step 2300 : 0.377964\n",
      "Minibatch accuracy: 100.0%\n",
      "Validation accuracy: 86.9%\n",
      "Minibatch loss at step 2400 : 0.443329\n",
      "Minibatch accuracy: 93.8%\n",
      "Validation accuracy: 84.3%\n",
      "Minibatch loss at step 2500 : 0.442656\n",
      "Minibatch accuracy: 95.3%\n",
      "Validation accuracy: 84.9%\n",
      "Minibatch loss at step 2600 : 0.390096\n",
      "Minibatch accuracy: 100.0%\n",
      "Validation accuracy: 86.2%\n",
      "Minibatch loss at step 2700 : 0.420008\n",
      "Minibatch accuracy: 95.3%\n",
      "Validation accuracy: 85.8%\n",
      "Minibatch loss at step 2800 : 0.551272\n",
      "Minibatch accuracy: 87.5%\n",
      "Validation accuracy: 83.5%\n",
      "Minibatch loss at step 2900 : 0.399724\n",
      "Minibatch accuracy: 98.4%\n",
      "Validation accuracy: 85.5%\n",
      "Minibatch loss at step 3000 : 0.400343\n",
      "Minibatch accuracy: 96.9%\n",
      "Validation accuracy: 85.5%\n",
      "Minibatch loss at step 3100 : 0.382886\n",
      "Minibatch accuracy: 97.7%\n",
      "Validation accuracy: 85.7%\n",
      "Minibatch loss at step 3200 : 0.380956\n",
      "Minibatch accuracy: 100.0%\n",
      "Validation accuracy: 86.3%\n",
      "Minibatch loss at step 3300 : 0.394146\n",
      "Minibatch accuracy: 100.0%\n",
      "Validation accuracy: 85.7%\n",
      "Minibatch loss at step 3400 : 0.409083\n",
      "Minibatch accuracy: 96.9%\n",
      "Validation accuracy: 82.6%\n",
      "Minibatch loss at step 3500 : 0.395702\n",
      "Minibatch accuracy: 98.4%\n",
      "Validation accuracy: 86.1%\n",
      "Minibatch loss at step 3600 : 0.418349\n",
      "Minibatch accuracy: 99.2%\n",
      "Validation accuracy: 86.0%\n",
      "Minibatch loss at step 3700 : 0.418952\n",
      "Minibatch accuracy: 97.7%\n",
      "Validation accuracy: 85.4%\n",
      "Minibatch loss at step 3800 : 0.388371\n",
      "Minibatch accuracy: 99.2%\n",
      "Validation accuracy: 85.3%\n",
      "Minibatch loss at step 3900 : 0.449639\n",
      "Minibatch accuracy: 96.1%\n",
      "Validation accuracy: 84.4%\n",
      "Minibatch loss at step 4000 : 0.399934\n",
      "Minibatch accuracy: 99.2%\n",
      "Validation accuracy: 85.3%\n",
      "Minibatch loss at step 4100 : 0.397206\n",
      "Minibatch accuracy: 99.2%\n",
      "Validation accuracy: 85.0%\n",
      "Minibatch loss at step 4200 : 0.408384\n",
      "Minibatch accuracy: 99.2%\n",
      "Validation accuracy: 86.7%\n",
      "Minibatch loss at step 4300 : 0.400332\n",
      "Minibatch accuracy: 98.4%\n",
      "Validation accuracy: 86.6%\n",
      "Minibatch loss at step 4400 : 0.406989\n",
      "Minibatch accuracy: 96.9%\n",
      "Validation accuracy: 84.7%\n",
      "Minibatch loss at step 4500 : 0.390598\n",
      "Minibatch accuracy: 100.0%\n",
      "Validation accuracy: 86.0%\n",
      "Minibatch loss at step 4600 : 0.367969\n",
      "Minibatch accuracy: 99.2%\n",
      "Validation accuracy: 85.3%\n",
      "Minibatch loss at step 4700 : 0.40323\n",
      "Minibatch accuracy: 97.7%\n",
      "Validation accuracy: 86.0%\n",
      "Minibatch loss at step 4800 : 0.359178\n",
      "Minibatch accuracy: 100.0%\n",
      "Validation accuracy: 86.1%\n",
      "Minibatch loss at step 4900 : 0.46699\n",
      "Minibatch accuracy: 95.3%\n",
      "Validation accuracy: 83.3%\n",
      "Minibatch loss at step 5000 : 0.556723\n",
      "Minibatch accuracy: 91.4%\n",
      "Validation accuracy: 75.4%\n",
      "Test accuracy: 77.4%\n"
     ]
    }
   ],
   "source": [
    "num_steps = 5001\n",
    "\n",
    "with tf.Session(graph=graph) as session:\n",
    "  tf.initialize_all_variables().run()\n",
    "  saver.restore(session,'conv_layer4_param8-1000')\n",
    "  print \"Initialized\"\n",
    "  for step in xrange(num_steps):\n",
    "    offset = (step * batch_size) % (train_labels.shape[0] - batch_size)\n",
    "    batch_data = train_dataset[offset:(offset + batch_size), :, :, :]\n",
    "    batch_labels = train_labels[offset:(offset + batch_size), :]\n",
    "    feed_dict = {tf_train_dataset : batch_data, tf_train_labels : batch_labels,keep_prob : 0.5}\n",
    "    _, l, predictions = session.run(\n",
    "      [optimizer, loss, train_prediction], feed_dict=feed_dict)\n",
    "    if (step % 100 == 0):\n",
    "      print \"Minibatch loss at step\", step, \":\", l\n",
    "      print \"Minibatch accuracy: %.1f%%\" % accuracy(predictions, batch_labels)\n",
    "      print \"Validation accuracy: %.1f%%\" % accuracy(\n",
    "        valid_prediction.eval(feed_dict={keep_prob : 1}), valid_labels)\n",
    "    if (step % 1000 == 0):\n",
    "        saver.save(session,'conv_layer4_param9',global_step = step)\n",
    "  print \"Test accuracy: %.1f%%\" % accuracy(test_prediction.eval(feed_dict={keep_prob : 1}), test_labels)\n",
    "  #classify_result = classify_prediction.eval(feed_dict={keep_prob : 1})\n",
    "\n",
    "# 第一次 训练5000次 Test accuracy 为 87.6%\n",
    "# 第二次 加训10000次 Test accuracy 为 89.6%\n",
    "# 第三次 由于之前有过拟合现象,采用参数regularization. 训练了 5000次 84.2%\n",
    "# 第四次 继续加训5000次 达到 85.6% Minibatch 降到 0.592821 说明没有过拟合\n",
    "# 下面需要对模型进行改进,增加层数.才能提高准确率.\n",
    "# 用四层的conv 获得 accuracy 89.8% Minibatch 的接受度 接近100% 可能还是过拟合,或者测试数据集 有问题"
   ]
  },
  {
   "cell_type": "code",
   "execution_count": 11,
   "metadata": {
    "collapsed": false
   },
   "outputs": [
    {
     "name": "stdout",
     "output_type": "stream",
     "text": [
      "0.923952\n"
     ]
    }
   ],
   "source": [
    "print classify_result[0][1]"
   ]
  },
  {
   "cell_type": "code",
   "execution_count": 11,
   "metadata": {
    "collapsed": false
   },
   "outputs": [
    {
     "name": "stdout",
     "output_type": "stream",
     "text": [
      "['/Users/meicg/Desktop/already_ok/four2one_64/']\n"
     ]
    }
   ],
   "source": [
    "import shutil\n",
    "testFolders = ['/Users/meicg/Desktop/already_ok/four2one_64/']\n",
    "originalFolder = ['/Users/meicg/Desktop/already_ok/four2one/']\n",
    "classifyFolders = ['/Users/meicg/Desktop/already_ok/label_0/',\n",
    "                   '/Users/meicg/Desktop/already_ok/label_1/']\n",
    "def classifyTestImages(small_data_folders, original_data_folder, classify_folders ):\n",
    "    print small_data_folders \n",
    "    flag = 0\n",
    "    for image in os.listdir(small_data_folders[0]):\n",
    "        image_file_origin  = os.path.join(original_data_folder[0], image)\n",
    "        image_file_destination_0 = os.path.join(classify_folders[0], image )\n",
    "        image_file_destination_1 = os.path.join(classify_folders[1], image )\n",
    "        if classify_result[flag][0] >=0.5 :\n",
    "            shutil.copyfile(image_file_origin ,image_file_destination_0)\n",
    "        elif classify_result[flag][1] >0.5 :\n",
    "            shutil.copyfile(image_file_origin ,image_file_destination_1)\n",
    "        flag += 1\n",
    "    return flag\n",
    "\n",
    "flag2 = classifyTestImages(testFolders, originalFolder,classifyFolders)"
   ]
  },
  {
   "cell_type": "code",
   "execution_count": 23,
   "metadata": {
    "collapsed": false
   },
   "outputs": [
    {
     "name": "stdout",
     "output_type": "stream",
     "text": [
      "762\n"
     ]
    }
   ],
   "source": [
    "print flag2"
   ]
  },
  {
   "cell_type": "code",
   "execution_count": null,
   "metadata": {
    "collapsed": true
   },
   "outputs": [],
   "source": []
  }
 ],
 "metadata": {
  "kernelspec": {
   "display_name": "Python 2",
   "language": "python",
   "name": "python2"
  },
  "language_info": {
   "codemirror_mode": {
    "name": "ipython",
    "version": 2
   },
   "file_extension": ".py",
   "mimetype": "text/x-python",
   "name": "python",
   "nbconvert_exporter": "python",
   "pygments_lexer": "ipython2",
   "version": "2.7.11"
  }
 },
 "nbformat": 4,
 "nbformat_minor": 0
}

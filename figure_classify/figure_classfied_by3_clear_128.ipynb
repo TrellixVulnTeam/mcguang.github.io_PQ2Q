{
 "cells": [
  {
   "cell_type": "code",
   "execution_count": 1,
   "metadata": {
    "collapsed": false
   },
   "outputs": [],
   "source": [
    "import matplotlib.pyplot as plt\n",
    "import numpy as np\n",
    "import os\n",
    "import tarfile\n",
    "import urllib\n",
    "from scipy import ndimage\n",
    "import cPickle as pickle\n",
    "import tensorflow as tf\n",
    "import matplotlib.image as mpimg"
   ]
  },
  {
   "cell_type": "code",
   "execution_count": 2,
   "metadata": {
    "collapsed": false
   },
   "outputs": [
    {
     "name": "stdout",
     "output_type": "stream",
     "text": [
      "py_label_0\n",
      "py_label_1\n",
      "py_label_1_clear\n",
      "Full dataset tensor: (20920, 128, 128, 3)\n",
      "Full original dataset tensor: (20920, 128, 128, 3)\n",
      "Mean: -0.175889\n",
      "Standard deviation: 0.234473\n",
      "Labels: (20920,)\n"
     ]
    }
   ],
   "source": [
    "num_classes = 3\n",
    "image_size = 128  # Pixel width and height.\n",
    "channel = 3\n",
    "pixel_depth = 255.0  # Number of levels per pixel.\n",
    "#folders = ['image_128_v2/label_128_0_v2',\n",
    "#            'image_128_v2/label_128_1_v2',\n",
    "#'image_128_v2/label_128_1_v2_clear']\n",
    "folders = ['py_label_0',\n",
    "          'py_label_1',\n",
    "          'py_label_1_clear']\n",
    "\n",
    "def load(data_folders, min_num_images, max_num_images):\n",
    "  dataset = np.ndarray(\n",
    "    shape=(max_num_images, image_size, image_size, channel), dtype=np.float32)\n",
    "  original_dataset = np.ndarray(\n",
    "    shape=(max_num_images, image_size, image_size, channel), dtype=np.uint8)\n",
    "  labels = np.ndarray(shape=(max_num_images), dtype=np.int32)\n",
    "  label_index = 0\n",
    "  image_index = 0\n",
    "  for folder in data_folders:\n",
    "    print folder\n",
    "    for image in os.listdir(folder):\n",
    "      if image_index >= max_num_images:\n",
    "        raise Exception('More images than expected: %d >= %d' % (\n",
    "          num_images, max_num_images))\n",
    "      image_file = os.path.join(folder, image)\n",
    "      try:\n",
    "        original_data = mpimg.imread(image_file)\n",
    "        image_data = (ndimage.imread(image_file).astype(float) -\n",
    "                      pixel_depth / 2) / pixel_depth\n",
    "        if image_data.shape != (image_size, image_size,channel):\n",
    "          raise Exception('Unexpected image shape: %s' % str(image_data.shape))\n",
    "        dataset[image_index, :, :, :] = image_data\n",
    "        original_dataset[image_index, :, :, :] = original_data\n",
    "        labels[image_index] = label_index\n",
    "        image_index += 1\n",
    "      except IOError as e:\n",
    "        print 'Could not read:', image_file, ':', e, '- it\\'s ok, skipping.'\n",
    "    label_index += 1\n",
    "  num_images = image_index\n",
    "  dataset = dataset[0:num_images, :, :, :]\n",
    "  original_dataset = original_dataset[0:num_images, :, :, :]\n",
    "  labels = labels[0:num_images]\n",
    "  if num_images < min_num_images:\n",
    "    raise Exception('Many fewer images than expected: %d < %d' % (\n",
    "        num_images, min_num_images))\n",
    "  print 'Full dataset tensor:', dataset.shape\n",
    "  print 'Full original dataset tensor:', original_dataset.shape\n",
    "  print 'Mean:', np.mean(dataset)\n",
    "  print 'Standard deviation:', np.std(dataset)\n",
    "  print 'Labels:', labels.shape\n",
    "  return original_dataset,dataset, labels\n",
    "original_dataset,dataset, labels = load(folders, 10000, 21000)"
   ]
  },
  {
   "cell_type": "code",
   "execution_count": 3,
   "metadata": {
    "collapsed": false
   },
   "outputs": [],
   "source": [
    "np.random.seed(133)\n",
    "def randomize(original_dataset,dataset, labels):\n",
    "  permutation = np.random.permutation(labels.shape[0])\n",
    "  shuffled_dataset = dataset[permutation,:,:]\n",
    "  shuffled_original_dataset = original_dataset[permutation,:,:]\n",
    "  shuffled_labels = labels[permutation]\n",
    "  return shuffled_original_dataset,shuffled_dataset, shuffled_labels\n",
    "original_dataset,dataset, labels = randomize(original_dataset,dataset, labels)"
   ]
  },
  {
   "cell_type": "code",
   "execution_count": 4,
   "metadata": {
    "collapsed": false
   },
   "outputs": [
    {
     "name": "stdout",
     "output_type": "stream",
     "text": [
      "Training (15920, 128, 128, 3) (15920,)\n",
      "Validation (2500, 128, 128, 3) (2500,)\n",
      "Test (2500, 128, 128, 3) (2500,)\n",
      "original_Training (15920, 128, 128, 3)\n",
      "original_Validation (2500, 128, 128, 3)\n",
      "original_Test (2500, 128, 128, 3)\n"
     ]
    }
   ],
   "source": [
    "train_size = 15920\n",
    "valid_size = 2500\n",
    "test_size = 2500\n",
    "#train_size = 128\n",
    "#valid_size = 100\n",
    "#test_size = 20000\n",
    "valid_dataset = dataset[:valid_size,:,:,:]\n",
    "valid_labels = labels[:valid_size]\n",
    "train_dataset = dataset[valid_size:valid_size+train_size,:,:,:]\n",
    "train_labels = labels[valid_size:valid_size+train_size]\n",
    "test_dataset = dataset[valid_size+train_size:train_size+valid_size+test_size,:,:,:]\n",
    "test_labels = labels[valid_size+train_size:train_size+valid_size+test_size]\n",
    "\n",
    "original_valid_dataset = original_dataset[:valid_size,:,:,:]\n",
    "original_train_dataset = original_dataset[valid_size:valid_size+train_size,:,:,:]\n",
    "original_test_dataset = original_dataset[valid_size+train_size:train_size+valid_size+test_size,:,:,:]\n",
    "\n",
    "\n",
    "print 'Training', train_dataset.shape, train_labels.shape\n",
    "print 'Validation', valid_dataset.shape, valid_labels.shape\n",
    "print 'Test', test_dataset.shape, test_labels.shape\n",
    "print 'original_Training', original_train_dataset.shape\n",
    "print 'original_Validation', original_valid_dataset.shape\n",
    "print 'original_Test', original_test_dataset.shape"
   ]
  },
  {
   "cell_type": "code",
   "execution_count": 5,
   "metadata": {
    "collapsed": false
   },
   "outputs": [
    {
     "name": "stdout",
     "output_type": "stream",
     "text": [
      "Training set (15920, 128, 128, 3) (15920, 3)\n",
      "Validation set (2500, 128, 128, 3) (2500, 3)\n",
      "Test set (2500, 128, 128, 3) (2500, 3)\n"
     ]
    }
   ],
   "source": [
    "num_labels = 3\n",
    "num_channels = 3 # grayscale\n",
    "valid_prediction = np.ndarray(shape=(valid_size, num_labels ), dtype=np.float32)\n",
    "test_prediction = np.ndarray(shape=(test_size, num_labels ), dtype=np.float32)\n",
    "\n",
    "import numpy as np\n",
    "\n",
    "def reformat(dataset, labels):\n",
    "  dataset = dataset.reshape(\n",
    "    (-1, image_size, image_size, num_channels)).astype(np.float32)\n",
    "  labels = (np.arange(num_labels) == labels[:,None]).astype(np.float32)\n",
    "  return dataset, labels\n",
    "train_dataset, train_labels = reformat(train_dataset, train_labels)\n",
    "valid_dataset, valid_labels = reformat(valid_dataset, valid_labels)\n",
    "test_dataset, test_labels = reformat(test_dataset, test_labels)\n",
    "print 'Training set', train_dataset.shape, train_labels.shape\n",
    "print 'Validation set', valid_dataset.shape, valid_labels.shape\n",
    "print 'Test set', test_dataset.shape, test_labels.shape"
   ]
  },
  {
   "cell_type": "code",
   "execution_count": 6,
   "metadata": {
    "collapsed": true
   },
   "outputs": [],
   "source": [
    "def accuracy(predictions, labels):\n",
    "  return (100.0 * np.sum(np.argmax(predictions, 1) == np.argmax(labels, 1))\n",
    "          / predictions.shape[0])\n"
   ]
  },
  {
   "cell_type": "code",
   "execution_count": 7,
   "metadata": {
    "collapsed": false
   },
   "outputs": [],
   "source": [
    "batch_size = 64\n",
    "patch_size = 5\n",
    "depth = 15\n",
    "num_hidden = 512\n",
    "lamada = 0.00\n",
    "calculate_per_times = 10\n",
    "graph = tf.Graph()\n",
    "\n",
    "with graph.as_default():\n",
    "\n",
    "  # Input data.\n",
    "  tf_train_dataset = tf.placeholder(\n",
    "    tf.float32, shape=(batch_size, image_size, image_size, num_channels))\n",
    "  tf_train_labels = tf.placeholder(tf.float32, shape=(batch_size, num_labels))\n",
    "\n",
    "  #tf_valid_dataset = tf.constant(valid_dataset)\n",
    "  #tf_test_dataset = tf.constant(test_dataset)\n",
    "\n",
    "  tf_valid_test_dataset = tf.placeholder(\n",
    "    tf.float32, shape=(calculate_per_times, image_size, image_size, num_channels))\n",
    "  \n",
    "  # Variables.\n",
    "  conv1_weights = tf.Variable(tf.truncated_normal(\n",
    "      [patch_size, patch_size, num_channels, depth], stddev=0.1))\n",
    "  conv1_biases = tf.Variable(tf.zeros([depth]))\n",
    "  conv2_weights = tf.Variable(tf.truncated_normal(\n",
    "      [patch_size, patch_size, depth, depth*2], stddev=0.1))\n",
    "  conv2_biases = tf.Variable(tf.constant(0.0, shape=[depth*2]))\n",
    "  conv3_weights = tf.Variable(tf.truncated_normal(\n",
    "      [patch_size, patch_size, depth*2, depth*4], stddev=0.1))\n",
    "  conv3_biases = tf.Variable(tf.constant(0.0, shape=[depth*4]))\n",
    "  # conv4_weights = tf.Variable(tf.truncated_normal(\n",
    "  #     [patch_size, patch_size, depth*4, depth*8], stddev=1))\n",
    "  # conv4_biases = tf.Variable(tf.constant(0.0, shape=[depth*8]))\n",
    "\n",
    "\n",
    "  full_weights = tf.Variable(tf.truncated_normal(\n",
    "      [image_size / 8 * image_size / 8 * depth*4, num_hidden], stddev=0.1))\n",
    "  full_biases = tf.Variable(tf.constant(0.0, shape=[num_hidden]))\n",
    "  softmax_weights = tf.Variable(tf.truncated_normal(\n",
    "      [num_hidden, num_labels], stddev=0.1))\n",
    "  softmax_biases = tf.Variable(tf.constant(0.0, shape=[num_labels]))\n",
    "\n",
    "  # Dropout.\n",
    "  keep_prob = tf.placeholder(\"float\")\n",
    "\n",
    "  #lr = tf.train.exponential_decay(0.001, global_step, 3, 0.5, staircase=True)\n",
    "  \n",
    "  # Model.\n",
    "  def model(data):\n",
    "    conv_1 = tf.nn.conv2d(data, conv1_weights, [1, 1, 1, 1], padding='SAME')\n",
    "    relu_1 = tf.nn.relu(conv_1 + conv1_biases)\n",
    "    max_pool_1 = tf.nn.max_pool(relu_1, ksize = [1, 2, 2, 1], strides = [1, 2, 2, 1],padding = 'SAME')\n",
    "    \n",
    "    conv_2 = tf.nn.conv2d(max_pool_1, conv2_weights, [1, 1, 1, 1], padding='SAME')\n",
    "    relu_2 = tf.nn.relu(conv_2 + conv2_biases)\n",
    "    max_pool_2 = tf.nn.max_pool(relu_2, ksize = [1, 2, 2, 1], strides = [1, 2, 2, 1],padding = 'SAME')\n",
    "    \n",
    "    conv_3 = tf.nn.conv2d(max_pool_2, conv3_weights, [1, 1, 1, 1], padding='SAME')\n",
    "    relu_3 = tf.nn.relu(conv_3 + conv3_biases)\n",
    "    max_pool_3 = tf.nn.max_pool(relu_3, ksize = [1, 2, 2, 1], strides = [1, 2, 2, 1],padding = 'SAME')\n",
    "    \n",
    "    # conv_4 = tf.nn.conv2d(max_pool_3, conv4_weights, [1, 1, 1, 1], padding='SAME')\n",
    "    # relu_4 = tf.nn.relu(conv_4 + conv4_biases)\n",
    "    # max_pool_4 = tf.nn.max_pool(relu_4, ksize = [1, 2, 2, 1], strides = [1, 2, 2, 1],padding = 'SAME')\n",
    "    \n",
    "    shape = max_pool_3.get_shape().as_list()\n",
    "    reshape = tf.reshape(max_pool_3, [shape[0], shape[1] * shape[2] * shape[3]])\n",
    "    full_layer = tf.nn.relu(tf.matmul(reshape, full_weights) + full_biases)\n",
    "    softmax_layer = tf.nn.dropout(full_layer, keep_prob)\n",
    "    return tf.matmul(softmax_layer, softmax_weights) + softmax_biases\n",
    "  \n",
    "  # Training computation.\n",
    "  logits = model(tf_train_dataset)\n",
    "     \n",
    "  loss = tf.reduce_mean(\n",
    "     tf.nn.softmax_cross_entropy_with_logits(logits, tf_train_labels)  + \n",
    "      lamada*(tf.nn.l2_loss(conv1_weights) + tf.nn.l2_loss(conv2_weights) +  \n",
    "          tf.nn.l2_loss(full_weights) + tf.nn.l2_loss(softmax_weights) ))\n",
    "\n",
    "  optimizer = tf.train.GradientDescentOptimizer(0.005).minimize(loss)\n",
    "  \n",
    "  # Predictions for the training, validation, and test data.\n",
    "  train_prediction = tf.nn.softmax(logits)\n",
    "\n",
    "  valid_test_prediction = tf.nn.softmax(model(tf_valid_test_dataset))\n",
    "    \n",
    "  #valid_prediction = tf.nn.softmax(model(tf_valid_dataset))\n",
    "  #test_prediction = tf.nn.softmax(model(tf_test_dataset))\n",
    "  saver = tf.train.Saver()"
   ]
  },
  {
   "cell_type": "code",
   "execution_count": 15,
   "metadata": {
    "collapsed": false
   },
   "outputs": [
    {
     "name": "stdout",
     "output_type": "stream",
     "text": [
      "Initialized\n",
      "Minibatch loss at step 0 : 0.00108514\n",
      "Minibatch accuracy: 100.0%\n",
      "Validation accuracy: 93.0%\n",
      "Test accuracy: 90.7%\n"
     ]
    }
   ],
   "source": [
    "num_steps = 1\n",
    "\n",
    "with tf.Session(graph=graph) as session:  \n",
    "  tf.initialize_all_variables().run()\n",
    "  saver.restore(session,'conv_layer3_128_clear_param7-200000')\n",
    "  print \"Initialized\"\n",
    "  for step in xrange(num_steps):\n",
    "    offset = (step * batch_size) % (train_labels.shape[0] - batch_size)\n",
    "    batch_data = train_dataset[offset:(offset + batch_size), :, :, :]\n",
    "    batch_labels = train_labels[offset:(offset + batch_size), :]\n",
    "    feed_dict = {tf_train_dataset : batch_data, tf_train_labels : batch_labels,keep_prob : 0.5}\n",
    "    _, l, predictions = session.run(\n",
    "      [optimizer, loss, train_prediction], feed_dict=feed_dict)\n",
    "    #global_step = global_step + 1\n",
    "    #print(lr.eval())\n",
    "    if (step % 200 == 0):\n",
    "      print \"Minibatch loss at step\", step, \":\", l\n",
    "      print \"Minibatch accuracy: %.1f%%\" % accuracy(predictions, batch_labels)\n",
    "      valid_loop = valid_dataset.shape[0]/calculate_per_times\n",
    "      for valid_step in xrange(int(valid_loop)):\n",
    "            valid_start = valid_step * calculate_per_times\n",
    "            valid_end = (valid_step + 1) * calculate_per_times\n",
    "            valid_subset = valid_dataset[valid_start:valid_end, :, :, :]\n",
    "            feed_dict = {tf_valid_test_dataset : valid_subset ,keep_prob : 1}\n",
    "            valid_prediction[valid_start:valid_end] = session.run(valid_test_prediction, feed_dict = feed_dict)\n",
    "      print \"Validation accuracy: %.1f%%\" % accuracy(valid_prediction, valid_labels)\n",
    "    \n",
    "      test_loop = test_dataset.shape[0]/calculate_per_times\n",
    "      for test_step in xrange(int(test_loop)):\n",
    "            test_start = test_step * calculate_per_times\n",
    "            test_end = (test_step + 1) * calculate_per_times\n",
    "            test_subset = test_dataset[test_start:test_end, :, :, :]\n",
    "            feed_dict = {tf_valid_test_dataset : test_subset ,keep_prob : 1}\n",
    "            test_prediction[test_start:test_end] = session.run(valid_test_prediction, feed_dict = feed_dict)    \n",
    "      print \"Test accuracy: %.1f%%\" % accuracy(test_prediction, test_labels)\n",
    "    if (step % 10000 == 0):\n",
    "        saver.save(session,'conv_layer3_128_clear_param7',global_step = step)"
   ]
  },
  {
   "cell_type": "code",
   "execution_count": 9,
   "metadata": {
    "collapsed": false
   },
   "outputs": [
    {
     "name": "stdout",
     "output_type": "stream",
     "text": [
      "(2500, 3)\n",
      "3 3\n"
     ]
    }
   ],
   "source": [
    "print test_prediction.shape\n",
    "i = j = test_prediction.shape[1]\n",
    "print i,j"
   ]
  },
  {
   "cell_type": "code",
   "execution_count": 10,
   "metadata": {
    "collapsed": true
   },
   "outputs": [],
   "source": [
    "def mix_matrix(prediction, labels):\n",
    "    dim = prediction.shape[1]\n",
    "    matrix = np.zeros((dim,dim))\n",
    "    prid_vector = np.argmax(prediction,1)\n",
    "    labels_vector = np.argmax(labels,1)\n",
    "    for i in xrange(prid_vector.shape[0]):\n",
    "        matrix[prid_vector[i]][labels_vector[i]] += 1\n",
    "    return matrix.astype(int)"
   ]
  },
  {
   "cell_type": "code",
   "execution_count": 12,
   "metadata": {
    "collapsed": false
   },
   "outputs": [
    {
     "name": "stdout",
     "output_type": "stream",
     "text": [
      "[[1475   55   19]\n",
      " [  84  666   52]\n",
      " [   5   17  127]]\n"
     ]
    }
   ],
   "source": [
    "matrix = mix_matrix(test_prediction, test_labels)\n",
    "print matrix"
   ]
  },
  {
   "cell_type": "code",
   "execution_count": 12,
   "metadata": {
    "collapsed": false,
    "scrolled": true
   },
   "outputs": [
    {
     "name": "stdout",
     "output_type": "stream",
     "text": [
      "2\n"
     ]
    }
   ],
   "source": [
    "print np.argmax([[1,2,3]])"
   ]
  },
  {
   "cell_type": "code",
   "execution_count": 13,
   "metadata": {
    "collapsed": false,
    "scrolled": true
   },
   "outputs": [
    {
     "name": "stdout",
     "output_type": "stream",
     "text": [
      "[[1475   55   19]\n",
      " [  84  666   52]\n",
      " [   5   17  127]]\n"
     ]
    }
   ],
   "source": [
    "matrix = mix_matrix(test_prediction, test_labels)\n",
    "print matrix"
   ]
  },
  {
   "cell_type": "code",
   "execution_count": 14,
   "metadata": {
    "collapsed": false
   },
   "outputs": [
    {
     "name": "stdout",
     "output_type": "stream",
     "text": [
      "[[1539   64   10]\n",
      " [  26  653   61]\n",
      " [   3   11  133]]\n"
     ]
    }
   ],
   "source": [
    "matrix = mix_matrix(valid_prediction, valid_labels)\n",
    "print matrix"
   ]
  },
  {
   "cell_type": "code",
   "execution_count": 19,
   "metadata": {
    "collapsed": false
   },
   "outputs": [
    {
     "name": "stdout",
     "output_type": "stream",
     "text": [
      "[[6239   18    3]\n",
      " [  18 2925   54]\n",
      " [   1   17  725]]\n"
     ]
    }
   ],
   "source": [
    "matrix = mix_matrix(valid_prediction, valid_labels)\n",
    "print matrix"
   ]
  },
  {
   "cell_type": "code",
   "execution_count": 15,
   "metadata": {
    "collapsed": false
   },
   "outputs": [
    {
     "name": "stdout",
     "output_type": "stream",
     "text": [
      "0.851351351351\n"
     ]
    }
   ],
   "source": [
    "print 126.0/(126 + 18 + 4)  "
   ]
  },
  {
   "cell_type": "code",
   "execution_count": 16,
   "metadata": {
    "collapsed": true
   },
   "outputs": [],
   "source": [
    "import tensorflow"
   ]
  },
  {
   "cell_type": "code",
   "execution_count": 40,
   "metadata": {
    "collapsed": true
   },
   "outputs": [],
   "source": [
    "np.argmax?"
   ]
  },
  {
   "cell_type": "code",
   "execution_count": null,
   "metadata": {
    "collapsed": true
   },
   "outputs": [],
   "source": []
  }
 ],
 "metadata": {
  "kernelspec": {
   "display_name": "Python 2",
   "language": "python",
   "name": "python2"
  },
  "language_info": {
   "codemirror_mode": {
    "name": "ipython",
    "version": 2
   },
   "file_extension": ".py",
   "mimetype": "text/x-python",
   "name": "python",
   "nbconvert_exporter": "python",
   "pygments_lexer": "ipython2",
   "version": "2.7.6"
  }
 },
 "nbformat": 4,
 "nbformat_minor": 0
}

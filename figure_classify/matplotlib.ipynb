{
 "cells": [
  {
   "cell_type": "code",
   "execution_count": null,
   "metadata": {
    "collapsed": false
   },
   "outputs": [],
   "source": [
    "import matplotlib\n",
    "#matplotlib.use('GtkAgg')\n",
    "import matplotlib.pyplot as plt\n",
    "plt.clf()\n",
    "plt.cla()\n",
    "plt.close()\n",
    "import matplotlib\n",
    "plt.plot([1,2,3,4])\n",
    "plt.ylabel('some numbers')  \n",
    "#plt.show()"
   ]
  },
  {
   "cell_type": "code",
   "execution_count": 3,
   "metadata": {
    "collapsed": false
   },
   "outputs": [
    {
     "data": {
      "text/plain": [
       "u'/Users/meicg/.matplotlib/matplotlibrc'"
      ]
     },
     "execution_count": 3,
     "metadata": {},
     "output_type": "execute_result"
    }
   ],
   "source": [
    "import matplotlib\n",
    "matplotlib.matplotlib_fname()"
   ]
  },
  {
   "cell_type": "code",
   "execution_count": 2,
   "metadata": {
    "collapsed": false
   },
   "outputs": [],
   "source": [
    "\n",
    "import numpy as np\n",
    "import matplotlib.pyplot as plt\n",
    "plt.clf()\n",
    "plt.cla()\n",
    "plt.close()\n",
    "\n",
    "x = np.linspace(0, 10, 1000)\n",
    "y = np.sin(x)\n",
    "z = np.cos(x**2)\n",
    "\n",
    "plt.figure(figsize=(8,4))\n",
    "plt.plot(x,y,label=\"$sin(x)$\",color=\"red\",linewidth=2)\n",
    "plt.plot(x,z,\"b--\",label=\"$cos(x^2)$\")\n",
    "plt.xlabel(\"Time(s)\")\n",
    "plt.ylabel(\"Volt\")\n",
    "plt.title(\"PyPlot First Example\")\n",
    "plt.ylim(-1.2,1.2)\n",
    "plt.legend()\n",
    "plt.show()\n",
    "plt.savefig('temp.png')"
   ]
  },
  {
   "cell_type": "code",
   "execution_count": 1,
   "metadata": {
    "collapsed": false
   },
   "outputs": [
    {
     "name": "stdout",
     "output_type": "stream",
     "text": [
      "[  81.59298985   91.55771139   84.36664311 ...,  108.40772831   86.25084645\n",
      "   87.13634325]\n"
     ]
    }
   ],
   "source": [
    "import numpy as np\n",
    "import matplotlib.pyplot as plt\n",
    "\n",
    "mu, sigma = 100, 15\n",
    "x = mu + sigma * np.random.randn(10000)\n",
    "\n",
    "# the histogram of the data\n",
    "n, bins, patches = plt.hist(x, 10, normed=1, facecolor='g', alpha=0.75)\n",
    "\n",
    "\n",
    "plt.xlabel('Smarts')\n",
    "plt.ylabel('Probability')\n",
    "plt.title('Histogram of IQ')\n",
    "plt.text(60, .025, r'$\\mu=100,\\ \\sigma=15$')\n",
    "plt.axis([40, 160, 0, 0.03])\n",
    "plt.grid(True)\n",
    "plt.show()\n",
    "plt.savefig('temp.png')\n",
    "print x"
   ]
  },
  {
   "cell_type": "code",
   "execution_count": 1,
   "metadata": {
    "collapsed": false
   },
   "outputs": [],
   "source": [
    "from numpy import * \n",
    "from sklearn.datasets import load_iris     # import datasets\n",
    "\n",
    "# load the dataset: iris\n",
    "iris = load_iris() \n",
    "samples = iris.data\n",
    "#print samples \n",
    "target = iris.target \n",
    "#print target\n",
    "#print samples\n",
    "# import the LogisticRegression\n",
    "from sklearn.linear_model import LogisticRegression \n",
    "\n",
    "classifier = LogisticRegression()  # 使用类，参数全是默认的\n",
    "classifier.fit(samples, target)  # 训练数据来学习，不需要返回值\n",
    "\n",
    "x = classifier.predict([5, 3, 5, 2.5])  # 测试数据，分类返回标记\n",
    "\n",
    "#print x \n",
    "\n",
    "#其实导入的是sklearn.linear_model的一个类：LogisticRegression， 它里面有许多方法\n",
    "#常用的方法是fit（训练分类模型）、predict（预测测试样本的标记）\n",
    "\n",
    "#不过里面没有返回LR模型中学习到的权重向量w，感觉这是一个缺陷"
   ]
  },
  {
   "cell_type": "code",
   "execution_count": 2,
   "metadata": {
    "collapsed": false
   },
   "outputs": [
    {
     "name": "stdout",
     "output_type": "stream",
     "text": [
      "[[ 0.50316464  0.11135559]\n",
      " [ 1.06597837 -0.63035547]\n",
      " [ 0.95663377  0.58199637]\n",
      " [ 0.33961202  0.40713937]\n",
      " [ 2.17952333 -0.08488181]\n",
      " [ 2.00520942  0.7817976 ]\n",
      " [ 0.12531776 -0.14925731]\n",
      " [ 1.06990641  0.36447753]\n",
      " [-0.76391099 -0.6136396 ]\n",
      " [ 0.55678871  0.8810501 ]]\n",
      "[1 1 0 0 1 1 1 0 0 0]\n"
     ]
    }
   ],
   "source": [
    "# Creating the dataset\n",
    "# e.g. make_moons generates crescent-shaped data\n",
    "# Check out make_classification, which generates linearly-separable data\n",
    "from sklearn.datasets import make_moons\n",
    " \n",
    "X, y = make_moons(\n",
    "    n_samples=500,  # the number of observations\n",
    "    random_state=1,\n",
    "    noise=0.3\n",
    ")\n",
    " \n",
    "# Take a peek\n",
    "print(X[:10,])\n",
    "print(y[:10])"
   ]
  },
  {
   "cell_type": "code",
   "execution_count": 8,
   "metadata": {
    "collapsed": false
   },
   "outputs": [
    {
     "data": {
      "image/png": "[encoded data removed]",
      "text/plain": [
       "<IPython.core.display.Image object>"
      ]
     },
     "execution_count": 8,
     "metadata": {},
     "output_type": "execute_result"
    }
   ],
   "source": [
    "import matplotlib.pyplot as plt\n",
    "from matplotlib.colors import ListedColormap\n",
    " \n",
    "# %matplotlib inline  # for the plots to appear inline in jupyter notebooks\n",
    " \n",
    "# Plot the first feature against the other, color by class\n",
    "plt.scatter(X[y == 1, 0], X[y == 1, 1], color=\"#EE3D34\", marker=\"x\")\n",
    "plt.scatter(X[y == 0, 0], X[y == 0, 1], color=\"#4458A7\", marker=\"o\")\n",
    "plt.savefig('temp.png')\n",
    "from IPython.display import Image\n",
    "Image(filename = 'temp.png')"
   ]
  },
  {
   "cell_type": "code",
   "execution_count": 16,
   "metadata": {
    "collapsed": true
   },
   "outputs": [],
   "source": [
    "from sklearn.cross_validation import train_test_split\n",
    " \n",
    "# Split into training and test sets\n",
    "XTrain, XTest, yTrain, yTest = train_test_split(X, y, random_state=1, test_size=0.5)"
   ]
  },
  {
   "cell_type": "code",
   "execution_count": 18,
   "metadata": {
    "collapsed": false
   },
   "outputs": [
    {
     "name": "stdout",
     "output_type": "stream",
     "text": [
      "Overall Error of k=99 Model: 0.15\n",
      "Overall Error of k=1 Model: 0.15\n"
     ]
    }
   ],
   "source": [
    "from sklearn.neighbors import KNeighborsClassifier\n",
    "from sklearn import metrics\n",
    " \n",
    "knn99 = KNeighborsClassifier(n_neighbors = 99)\n",
    "knn99.fit(XTrain, yTrain)\n",
    "yPredK99 = knn99.predict(XTest)\n",
    "print \"Overall Error of k=99 Model:\", 1 - round(metrics.accuracy_score(yTest, yPredK99), 2)\n",
    " \n",
    "knn1 = KNeighborsClassifier(n_neighbors = 1)\n",
    "knn1.fit(XTrain, yTrain)\n",
    "yPredK1 = knn1.predict(XTest)\n",
    "print \"Overall Error of k=1 Model:\", 1 - round(metrics.accuracy_score(yTest, yPredK1), 2)"
   ]
  },
  {
   "cell_type": "code",
   "execution_count": 19,
   "metadata": {
    "collapsed": false
   },
   "outputs": [
    {
     "name": "stdout",
     "output_type": "stream",
     "text": [
      "Overall Error of k=50 Model: 0.11\n"
     ]
    }
   ],
   "source": [
    "knn50 = KNeighborsClassifier(n_neighbors = 50)\n",
    "knn50.fit(XTrain, yTrain)\n",
    "yPredK50 = knn50.predict(XTest)\n",
    "print \"Overall Error of k=50 Model:\", 1 - round(metrics.accuracy_score(yTest, yPredK50), 2)"
   ]
  },
  {
   "cell_type": "code",
   "execution_count": 20,
   "metadata": {
    "collapsed": true
   },
   "outputs": [],
   "source": [
    "import numpy as np\n",
    "from sklearn.cross_validation import train_test_split, cross_val_score\n",
    " \n",
    "knn = KNeighborsClassifier()\n",
    " \n",
    "# the range of number of neighbors you want to test\n",
    "n_neighbors = np.arange(1, 141, 2)\n",
    " \n",
    "# here you store the models for each dataset used\n",
    "train_scores = list()\n",
    "test_scores = list()\n",
    "cv_scores = list()\n",
    " \n",
    "# loop through possible n_neighbors and try them out\n",
    "for n in n_neighbors:\n",
    "    knn.n_neighbors = n\n",
    "    knn.fit(XTrain, yTrain)\n",
    "    train_scores.append(1 - metrics.accuracy_score(yTrain, knn.predict(XTrain)))  # this will over-estimate the accuracy\n",
    "    test_scores.append(1 - metrics.accuracy_score(yTest, knn.predict(XTest)))\n",
    "    cv_scores.append(1 - cross_val_score(knn, XTrain, yTrain, cv = 10).mean())  # you take the mean of the CV scores"
   ]
  },
  {
   "cell_type": "code",
   "execution_count": 21,
   "metadata": {
    "collapsed": false
   },
   "outputs": [
    {
     "name": "stdout",
     "output_type": "stream",
     "text": [
      "The best values of k are:\n",
      "1 according to the Training Set\n",
      "23 according to the Test Set and\n",
      "11 according to Cross-Validation\n"
     ]
    }
   ],
   "source": [
    "# what do these different datasets think is the best value of k?\n",
    "print(\n",
    "    'The best values of k are:\\n' \\\n",
    "    '{} according to the Training Set\\n' \\\n",
    "    '{} according to the Test Set and\\n' \\\n",
    "    '{} according to Cross-Validation'.format(\n",
    "        min(n_neighbors[train_scores == min(train_scores)]),\n",
    "        min(n_neighbors[test_scores == min(test_scores)]),\n",
    "        min(n_neighbors[cv_scores == min(cv_scores)])        \n",
    "    )\n",
    ")    "
   ]
  },
  {
   "cell_type": "code",
   "execution_count": null,
   "metadata": {
    "collapsed": true
   },
   "outputs": [],
   "source": []
  }
 ],
 "metadata": {
  "kernelspec": {
   "display_name": "Python 2",
   "language": "python",
   "name": "python2"
  },
  "language_info": {
   "codemirror_mode": {
    "name": "ipython",
    "version": 2
   },
   "file_extension": ".py",
   "mimetype": "text/x-python",
   "name": "python",
   "nbconvert_exporter": "python",
   "pygments_lexer": "ipython2",
   "version": "2.7.6"
  }
 },
 "nbformat": 4,
 "nbformat_minor": 0
}

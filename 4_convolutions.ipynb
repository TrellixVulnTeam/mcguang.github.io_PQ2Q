{
 "cells": [
  {
   "cell_type": "markdown",
   "metadata": {
    "colab_type": "text",
    "id": "4embtkV0pNxM"
   },
   "source": [
    "Deep Learning\n",
    "=============\n",
    "\n",
    "Assignment 4\n",
    "------------\n",
    "\n",
    "Previously in `2_fullyconnected.ipynb` and `3_regularization.ipynb`, we trained fully connected networks to classify [notMNIST](http://yaroslavvb.blogspot.com/2011/09/notmnist-dataset.html) characters.\n",
    "\n",
    "The goal of this assignment is make the neural network convolutional."
   ]
  },
  {
   "cell_type": "code",
   "execution_count": 1,
   "metadata": {
    "cellView": "both",
    "colab": {
     "autoexec": {
      "startup": false,
      "wait_interval": 0
     }
    },
    "colab_type": "code",
    "collapsed": true,
    "id": "tm2CQN_Cpwj0"
   },
   "outputs": [],
   "source": [
    "# These are all the modules we'll be using later. Make sure you can import them\n",
    "# before proceeding further.\n",
    "import cPickle as pickle\n",
    "import numpy as np\n",
    "import tensorflow as tf"
   ]
  },
  {
   "cell_type": "code",
   "execution_count": 2,
   "metadata": {
    "cellView": "both",
    "colab": {
     "autoexec": {
      "startup": false,
      "wait_interval": 0
     },
     "output_extras": [
      {
       "item_id": 1
      }
     ]
    },
    "colab_type": "code",
    "collapsed": false,
    "executionInfo": {
     "elapsed": 11948,
     "status": "ok",
     "timestamp": 1446658914837,
     "user": {
      "color": "",
      "displayName": "",
      "isAnonymous": false,
      "isMe": true,
      "permissionId": "",
      "photoUrl": "",
      "sessionId": "0",
      "userId": ""
     },
     "user_tz": 480
    },
    "id": "y3-cj1bpmuxc",
    "outputId": "016b1a51-0290-4b08-efdb-8c95ffc3cd01"
   },
   "outputs": [
    {
     "name": "stdout",
     "output_type": "stream",
     "text": [
      "Training set (200000, 28, 28) (200000,)\n",
      "Validation set (10000, 28, 28) (10000,)\n",
      "Test set (18724, 28, 28) (18724,)\n"
     ]
    }
   ],
   "source": [
    "pickle_file = 'notMNIST.pickle'\n",
    "\n",
    "with open(pickle_file, 'rb') as f:\n",
    "  save = pickle.load(f)\n",
    "  train_dataset = save['train_dataset']\n",
    "  train_labels = save['train_labels']\n",
    "  valid_dataset = save['valid_dataset']\n",
    "  valid_labels = save['valid_labels']\n",
    "  test_dataset = save['test_dataset']\n",
    "  test_labels = save['test_labels']\n",
    "  del save  # hint to help gc free up memory\n",
    "  print 'Training set', train_dataset.shape, train_labels.shape\n",
    "  print 'Validation set', valid_dataset.shape, valid_labels.shape\n",
    "  print 'Test set', test_dataset.shape, test_labels.shape"
   ]
  },
  {
   "cell_type": "markdown",
   "metadata": {
    "colab_type": "text",
    "id": "L7aHrm6nGDMB"
   },
   "source": [
    "Reformat into a TensorFlow-friendly shape:\n",
    "- convolutions need the image data formatted as a cube (width by height by #channels)\n",
    "- labels as float 1-hot encodings."
   ]
  },
  {
   "cell_type": "code",
   "execution_count": 3,
   "metadata": {
    "cellView": "both",
    "colab": {
     "autoexec": {
      "startup": false,
      "wait_interval": 0
     },
     "output_extras": [
      {
       "item_id": 1
      }
     ]
    },
    "colab_type": "code",
    "collapsed": false,
    "executionInfo": {
     "elapsed": 11952,
     "status": "ok",
     "timestamp": 1446658914857,
     "user": {
      "color": "",
      "displayName": "",
      "isAnonymous": false,
      "isMe": true,
      "permissionId": "",
      "photoUrl": "",
      "sessionId": "0",
      "userId": ""
     },
     "user_tz": 480
    },
    "id": "IRSyYiIIGIzS",
    "outputId": "650a208c-8359-4852-f4f5-8bf10e80ef6c"
   },
   "outputs": [
    {
     "name": "stdout",
     "output_type": "stream",
     "text": [
      "Training set (200000, 28, 28, 1) (200000, 10)\n",
      "Validation set (10000, 28, 28, 1) (10000, 10)\n",
      "Test set (18724, 28, 28, 1) (18724, 10)\n"
     ]
    }
   ],
   "source": [
    "image_size = 28\n",
    "num_labels = 10\n",
    "num_channels = 1 # grayscale\n",
    "\n",
    "import numpy as np\n",
    "\n",
    "def reformat(dataset, labels):\n",
    "  dataset = dataset.reshape(\n",
    "    (-1, image_size, image_size, num_channels)).astype(np.float32)\n",
    "  labels = (np.arange(num_labels) == labels[:,None]).astype(np.float32)\n",
    "  return dataset, labels\n",
    "train_dataset, train_labels = reformat(train_dataset, train_labels)\n",
    "valid_dataset, valid_labels = reformat(valid_dataset, valid_labels)\n",
    "test_dataset, test_labels = reformat(test_dataset, test_labels)\n",
    "print 'Training set', train_dataset.shape, train_labels.shape\n",
    "print 'Validation set', valid_dataset.shape, valid_labels.shape\n",
    "print 'Test set', test_dataset.shape, test_labels.shape"
   ]
  },
  {
   "cell_type": "code",
   "execution_count": 4,
   "metadata": {
    "cellView": "both",
    "colab": {
     "autoexec": {
      "startup": false,
      "wait_interval": 0
     }
    },
    "colab_type": "code",
    "collapsed": true,
    "id": "AgQDIREv02p1"
   },
   "outputs": [],
   "source": [
    "def accuracy(predictions, labels):\n",
    "  return (100.0 * np.sum(np.argmax(predictions, 1) == np.argmax(labels, 1))\n",
    "          / predictions.shape[0])"
   ]
  },
  {
   "cell_type": "markdown",
   "metadata": {
    "colab_type": "text",
    "id": "5rhgjmROXu2O"
   },
   "source": [
    "Let's build a small network with two convolutional layers, followed by one fully connected layer. Convolutional networks are more expensive computationally, so we'll limit its depth and number of fully connected nodes."
   ]
  },
  {
   "cell_type": "code",
   "execution_count": 26,
   "metadata": {
    "cellView": "both",
    "colab": {
     "autoexec": {
      "startup": false,
      "wait_interval": 0
     }
    },
    "colab_type": "code",
    "collapsed": false,
    "id": "IZYv70SvvOan"
   },
   "outputs": [],
   "source": [
    "batch_size = 60\n",
    "patch_size = 5\n",
    "depth = 32\n",
    "num_hidden = 1024\n",
    "\n",
    "graph = tf.Graph()\n",
    "\n",
    "with graph.as_default():\n",
    "\n",
    "  # Input data.\n",
    "  tf_train_dataset = tf.placeholder(\n",
    "    tf.float32, shape=(batch_size, image_size, image_size, num_channels))\n",
    "  tf_train_labels = tf.placeholder(tf.float32, shape=(batch_size, num_labels))\n",
    "  tf_valid_dataset = tf.constant(valid_dataset)\n",
    "  tf_test_dataset = tf.constant(test_dataset)\n",
    "  \n",
    "  # Variables.\n",
    "  layer1_weights = tf.Variable(tf.truncated_normal(\n",
    "      [patch_size, patch_size, num_channels, depth], stddev=0.1))\n",
    "  layer1_biases = tf.Variable(tf.zeros([depth]))\n",
    "  layer2_weights = tf.Variable(tf.truncated_normal(\n",
    "      [patch_size, patch_size, depth, depth*2], stddev=0.1))\n",
    "  layer2_biases = tf.Variable(tf.constant(1.0, shape=[depth*2]))\n",
    "  layer3_weights = tf.Variable(tf.truncated_normal(\n",
    "      [image_size / 4 * image_size / 4 * depth*2, num_hidden], stddev=0.1))\n",
    "  layer3_biases = tf.Variable(tf.constant(1.0, shape=[num_hidden]))\n",
    "  layer4_weights = tf.Variable(tf.truncated_normal(\n",
    "      [num_hidden, num_labels], stddev=0.1))\n",
    "  layer4_biases = tf.Variable(tf.constant(1.0, shape=[num_labels]))\n",
    "\n",
    "  # Dropout.\n",
    "  keep_prob = tf.placeholder(\"float\")\n",
    "  \n",
    "  # Model.\n",
    "  def model(data):\n",
    "    conv = tf.nn.conv2d(data, layer1_weights, [1, 1, 1, 1], padding='SAME')\n",
    "    hidden = tf.nn.relu(conv + layer1_biases)\n",
    "    hidden = tf.nn.max_pool(hidden, ksize = [1, 2, 2, 1], strides = [1, 2, 2, 1],padding = 'SAME')\n",
    "    conv = tf.nn.conv2d(hidden, layer2_weights, [1, 1, 1, 1], padding='SAME')\n",
    "    hidden = tf.nn.relu(conv + layer2_biases)\n",
    "    hidden = tf.nn.max_pool(hidden, ksize = [1, 2, 2, 1], strides = [1, 2, 2, 1],padding = 'SAME')\n",
    "    shape = hidden.get_shape().as_list()\n",
    "    reshape = tf.reshape(hidden, [shape[0], shape[1] * shape[2] * shape[3]])\n",
    "    hidden = tf.nn.relu(tf.matmul(reshape, layer3_weights) + layer3_biases)\n",
    "    hidden = tf.nn.dropout(hidden, keep_prob)\n",
    "    return tf.matmul(hidden, layer4_weights) + layer4_biases\n",
    "  \n",
    "  # Training computation.\n",
    "  logits = model(tf_train_dataset)\n",
    "  loss = tf.reduce_mean(\n",
    "    tf.nn.softmax_cross_entropy_with_logits(logits, tf_train_labels))\n",
    "    \n",
    "  # Optimizer.\n",
    "  optimizer = tf.train.GradientDescentOptimizer(0.01).minimize(loss)\n",
    "  \n",
    "  # Predictions for the training, validation, and test data.\n",
    "  train_prediction = tf.nn.softmax(logits)\n",
    "  valid_prediction = tf.nn.softmax(model(tf_valid_dataset))\n",
    "  test_prediction = tf.nn.softmax(model(tf_test_dataset))\n",
    "  saver = tf.train.Saver()"
   ]
  },
  {
   "cell_type": "code",
   "execution_count": 27,
   "metadata": {
    "cellView": "both",
    "colab": {
     "autoexec": {
      "startup": false,
      "wait_interval": 0
     },
     "output_extras": [
      {
       "item_id": 37
      }
     ]
    },
    "colab_type": "code",
    "collapsed": false,
    "executionInfo": {
     "elapsed": 63292,
     "status": "ok",
     "timestamp": 1446658966251,
     "user": {
      "color": "",
      "displayName": "",
      "isAnonymous": false,
      "isMe": true,
      "permissionId": "",
      "photoUrl": "",
      "sessionId": "0",
      "userId": ""
     },
     "user_tz": 480
    },
    "id": "noKFb2UovVFR",
    "outputId": "28941338-2ef9-4088-8bd1-44295661e628"
   },
   "outputs": [
    {
     "name": "stdout",
     "output_type": "stream",
     "text": [
      "Initialized\n",
      "Minibatch loss at step 0 : 0.255949\n",
      "Minibatch accuracy: 91.7%\n",
      "Validation accuracy: 89.7%\n",
      "Minibatch loss at step 200 : 0.285924\n",
      "Minibatch accuracy: 86.7%\n",
      "Validation accuracy: 89.7%\n",
      "Minibatch loss at step 400 : 0.420775\n",
      "Minibatch accuracy: 88.3%\n",
      "Validation accuracy: 89.7%\n",
      "Minibatch loss at step 600 : 0.225016\n",
      "Minibatch accuracy: 91.7%\n",
      "Validation accuracy: 89.8%\n",
      "Minibatch loss at step 800 : 0.373808\n",
      "Minibatch accuracy: 88.3%\n",
      "Validation accuracy: 89.8%\n",
      "Minibatch loss at step 1000 : 0.362998\n",
      "Minibatch accuracy: 85.0%\n",
      "Validation accuracy: 89.9%\n",
      "Minibatch loss at step 1200 : 0.380673\n",
      "Minibatch accuracy: 90.0%\n",
      "Validation accuracy: 89.9%\n",
      "Minibatch loss at step 1400 : 0.26874\n",
      "Minibatch accuracy: 91.7%\n",
      "Validation accuracy: 89.8%\n",
      "Minibatch loss at step 1600 : 0.217957\n",
      "Minibatch accuracy: 96.7%\n",
      "Validation accuracy: 89.8%\n",
      "Minibatch loss at step 1800 : 0.206552\n",
      "Minibatch accuracy: 93.3%\n",
      "Validation accuracy: 90.0%\n",
      "Minibatch loss at step 2000 : 0.319201\n",
      "Minibatch accuracy: 91.7%\n",
      "Validation accuracy: 90.0%\n",
      "Minibatch loss at step 2200 : 0.400905\n",
      "Minibatch accuracy: 90.0%\n",
      "Validation accuracy: 90.0%\n",
      "Minibatch loss at step 2400 : 0.340583\n",
      "Minibatch accuracy: 90.0%\n",
      "Validation accuracy: 90.0%\n",
      "Minibatch loss at step 2600 : 0.396394\n",
      "Minibatch accuracy: 88.3%\n",
      "Validation accuracy: 89.9%\n",
      "Minibatch loss at step 2800 : 0.535157\n",
      "Minibatch accuracy: 85.0%\n",
      "Validation accuracy: 90.0%\n",
      "Minibatch loss at step 3000 : 0.509018\n",
      "Minibatch accuracy: 85.0%\n",
      "Validation accuracy: 89.8%\n",
      "Minibatch loss at step 3200 : 0.254074\n",
      "Minibatch accuracy: 93.3%\n",
      "Validation accuracy: 89.8%\n",
      "Minibatch loss at step 3400 : 0.375746\n",
      "Minibatch accuracy: 88.3%\n",
      "Validation accuracy: 90.0%\n",
      "Minibatch loss at step 3600 : 0.456456\n",
      "Minibatch accuracy: 86.7%\n",
      "Validation accuracy: 90.0%\n",
      "Minibatch loss at step 3800 : 0.170148\n",
      "Minibatch accuracy: 91.7%\n",
      "Validation accuracy: 90.0%\n",
      "Minibatch loss at step 4000 : 0.478202\n",
      "Minibatch accuracy: 85.0%\n",
      "Validation accuracy: 90.2%\n",
      "Minibatch loss at step 4200 : 0.486715\n",
      "Minibatch accuracy: 85.0%\n",
      "Validation accuracy: 90.1%\n",
      "Minibatch loss at step 4400 : 0.294145\n",
      "Minibatch accuracy: 91.7%\n",
      "Validation accuracy: 90.2%\n",
      "Minibatch loss at step 4600 : 0.400671\n",
      "Minibatch accuracy: 86.7%\n",
      "Validation accuracy: 90.0%\n",
      "Minibatch loss at step 4800 : 0.225782\n",
      "Minibatch accuracy: 93.3%\n",
      "Validation accuracy: 90.0%\n",
      "Minibatch loss at step 5000 : 0.348808\n",
      "Minibatch accuracy: 88.3%\n",
      "Validation accuracy: 90.2%\n",
      "Minibatch loss at step 5200 : 0.280762\n",
      "Minibatch accuracy: 90.0%\n",
      "Validation accuracy: 90.3%\n",
      "Minibatch loss at step 5400 : 0.258271\n",
      "Minibatch accuracy: 91.7%\n",
      "Validation accuracy: 90.2%\n",
      "Minibatch loss at step 5600 : 0.408429\n",
      "Minibatch accuracy: 88.3%\n",
      "Validation accuracy: 90.1%\n",
      "Minibatch loss at step 5800 : 0.370806\n",
      "Minibatch accuracy: 88.3%\n",
      "Validation accuracy: 90.3%\n",
      "Minibatch loss at step 6000 : 0.434696\n",
      "Minibatch accuracy: 86.7%\n",
      "Validation accuracy: 90.2%\n",
      "Minibatch loss at step 6200 : 0.47153\n",
      "Minibatch accuracy: 88.3%\n",
      "Validation accuracy: 90.1%\n",
      "Minibatch loss at step 6400 : 0.327676\n",
      "Minibatch accuracy: 90.0%\n",
      "Validation accuracy: 90.2%\n",
      "Minibatch loss at step 6600 : 0.235107\n",
      "Minibatch accuracy: 95.0%\n",
      "Validation accuracy: 90.2%\n",
      "Minibatch loss at step 6800 : 0.418364\n",
      "Minibatch accuracy: 88.3%\n",
      "Validation accuracy: 90.0%\n",
      "Minibatch loss at step 7000 : 0.170897\n",
      "Minibatch accuracy: 98.3%\n",
      "Validation accuracy: 90.2%\n",
      "Minibatch loss at step 7200 : 0.208\n",
      "Minibatch accuracy: 95.0%\n",
      "Validation accuracy: 90.1%\n",
      "Minibatch loss at step 7400 : 0.330029\n",
      "Minibatch accuracy: 88.3%\n",
      "Validation accuracy: 90.3%\n",
      "Minibatch loss at step 7600 : 0.287336\n",
      "Minibatch accuracy: 88.3%\n",
      "Validation accuracy: 90.4%\n",
      "Minibatch loss at step 7800 : 0.48628\n",
      "Minibatch accuracy: 83.3%\n",
      "Validation accuracy: 90.2%\n",
      "Minibatch loss at step 8000 : 0.283269\n",
      "Minibatch accuracy: 93.3%\n",
      "Validation accuracy: 90.3%\n",
      "Minibatch loss at step 8200 : 0.399917\n",
      "Minibatch accuracy: 88.3%\n",
      "Validation accuracy: 90.3%\n",
      "Minibatch loss at step 8400 : 0.193479\n",
      "Minibatch accuracy: 93.3%\n",
      "Validation accuracy: 90.4%\n",
      "Minibatch loss at step 8600 : 0.329268\n",
      "Minibatch accuracy: 90.0%\n",
      "Validation accuracy: 90.3%\n",
      "Minibatch loss at step 8800 : 0.283803\n",
      "Minibatch accuracy: 91.7%\n",
      "Validation accuracy: 90.3%\n",
      "Minibatch loss at step 9000 : 0.425665\n",
      "Minibatch accuracy: 88.3%\n",
      "Validation accuracy: 90.3%\n",
      "Minibatch loss at step 9200 : 0.428429\n",
      "Minibatch accuracy: 85.0%\n",
      "Validation accuracy: 90.4%\n",
      "Minibatch loss at step 9400 : 0.500427\n",
      "Minibatch accuracy: 83.3%\n",
      "Validation accuracy: 90.3%\n",
      "Minibatch loss at step 9600 : 0.220817\n",
      "Minibatch accuracy: 93.3%\n",
      "Validation accuracy: 90.3%\n",
      "Minibatch loss at step 9800 : 0.403479\n",
      "Minibatch accuracy: 90.0%\n",
      "Validation accuracy: 90.3%\n",
      "Minibatch loss at step 10000 : 0.208464\n",
      "Minibatch accuracy: 91.7%\n",
      "Validation accuracy: 90.3%\n",
      "Test accuracy: 95.5%\n"
     ]
    }
   ],
   "source": [
    "num_steps = 10001\n",
    "\n",
    "with tf.Session(graph=graph) as session:\n",
    "  tf.initialize_all_variables().run()\n",
    "  saver.restore(session,'conv_param3-10000')\n",
    "  print \"Initialized\"\n",
    "  for step in xrange(num_steps):\n",
    "    offset = (step * batch_size) % (train_labels.shape[0] - batch_size)\n",
    "    batch_data = train_dataset[offset:(offset + batch_size), :, :, :]\n",
    "    batch_labels = train_labels[offset:(offset + batch_size), :]\n",
    "    feed_dict = {tf_train_dataset : batch_data, tf_train_labels : batch_labels,keep_prob : 0.5}\n",
    "    _, l, predictions = session.run(\n",
    "      [optimizer, loss, train_prediction], feed_dict=feed_dict)\n",
    "    if (step % 200 == 0):\n",
    "      print \"Minibatch loss at step\", step, \":\", l\n",
    "      print \"Minibatch accuracy: %.1f%%\" % accuracy(predictions, batch_labels)\n",
    "      print \"Validation accuracy: %.1f%%\" % accuracy(\n",
    "        valid_prediction.eval(feed_dict={keep_prob : 1}), valid_labels)\n",
    "    if (step % 5000 == 0):\n",
    "        saver.save(session,'conv_param4',global_step = step)\n",
    "  print \"Test accuracy: %.1f%%\" % accuracy(test_prediction.eval(feed_dict={keep_prob : 1}), test_labels)"
   ]
  },
  {
   "cell_type": "code",
   "execution_count": 15,
   "metadata": {
    "collapsed": false
   },
   "outputs": [
    {
     "name": "stdout",
     "output_type": "stream",
     "text": [
      "Initialized\n",
      "Test accuracy: 91.7%\n"
     ]
    }
   ],
   "source": [
    "with tf.Session(graph=graph) as session:\n",
    "  tf.initialize_all_variables().run()\n",
    "  saver.restore(session,'conv_param-2000')\n",
    "  print \"Initialized\"\n",
    "  print \"Test accuracy: %.1f%%\" % accuracy(test_prediction.eval(feed_dict={keep_prob : 1}), test_labels)"
   ]
  },
  {
   "cell_type": "code",
   "execution_count": 16,
   "metadata": {
    "collapsed": false
   },
   "outputs": [
    {
     "name": "stdout",
     "output_type": "stream",
     "text": [
      "Initialized\n",
      "Test accuracy: 92.9%\n"
     ]
    }
   ],
   "source": [
    "with tf.Session(graph=graph) as session:\n",
    "  tf.initialize_all_variables().run()\n",
    "  saver.restore(session,'conv_param-4000')\n",
    "  print \"Initialized\"\n",
    "  print \"Test accuracy: %.1f%%\" % accuracy(test_prediction.eval(feed_dict={keep_prob : 1}), test_labels)"
   ]
  },
  {
   "cell_type": "code",
   "execution_count": 17,
   "metadata": {
    "collapsed": false
   },
   "outputs": [
    {
     "name": "stdout",
     "output_type": "stream",
     "text": [
      "Initialized\n",
      "Test accuracy: 93.5%\n"
     ]
    }
   ],
   "source": [
    "with tf.Session(graph=graph) as session:\n",
    "  tf.initialize_all_variables().run()\n",
    "  saver.restore(session,'conv_param-6000')\n",
    "  print \"Initialized\"\n",
    "  print \"Test accuracy: %.1f%%\" % accuracy(test_prediction.eval(feed_dict={keep_prob : 1}), test_labels)"
   ]
  },
  {
   "cell_type": "code",
   "execution_count": 18,
   "metadata": {
    "collapsed": false
   },
   "outputs": [
    {
     "name": "stdout",
     "output_type": "stream",
     "text": [
      "Initialized\n",
      "Test accuracy: 94.1%\n"
     ]
    }
   ],
   "source": [
    "with tf.Session(graph=graph) as session:\n",
    "  tf.initialize_all_variables().run()\n",
    "  saver.restore(session,'conv_param-8000')\n",
    "  print \"Initialized\"\n",
    "  print \"Test accuracy: %.1f%%\" % accuracy(test_prediction.eval(feed_dict={keep_prob : 1}), test_labels)"
   ]
  },
  {
   "cell_type": "code",
   "execution_count": 19,
   "metadata": {
    "collapsed": false
   },
   "outputs": [
    {
     "name": "stdout",
     "output_type": "stream",
     "text": [
      "Initialized\n",
      "Test accuracy: 94.3%\n"
     ]
    }
   ],
   "source": [
    "with tf.Session(graph=graph) as session:\n",
    "  tf.initialize_all_variables().run()\n",
    "  saver.restore(session,'conv_param-10000')\n",
    "  print \"Initialized\"\n",
    "  print \"Test accuracy: %.1f%%\" % accuracy(test_prediction.eval(feed_dict={keep_prob : 1}), test_labels)"
   ]
  },
  {
   "cell_type": "code",
   "execution_count": 22,
   "metadata": {
    "collapsed": false
   },
   "outputs": [
    {
     "name": "stdout",
     "output_type": "stream",
     "text": [
      "Initialized\n",
      "Test accuracy: 94.7%\n"
     ]
    }
   ],
   "source": [
    "with tf.Session(graph=graph) as session:\n",
    "  tf.initialize_all_variables().run()\n",
    "  saver.restore(session,'conv_param2-10000')\n",
    "  print \"Initialized\"\n",
    "  print \"Test accuracy: %.1f%%\" % accuracy(test_prediction.eval(feed_dict={keep_prob : 1}), test_labels)"
   ]
  },
  {
   "cell_type": "code",
   "execution_count": 25,
   "metadata": {
    "collapsed": false
   },
   "outputs": [
    {
     "name": "stdout",
     "output_type": "stream",
     "text": [
      "Initialized\n",
      "Test accuracy: 95.2%\n"
     ]
    }
   ],
   "source": [
    "with tf.Session(graph=graph) as session:\n",
    "  tf.initialize_all_variables().run()\n",
    "  saver.restore(session,'conv_param3-10000')\n",
    "  print \"Initialized\"\n",
    "  print \"Test accuracy: %.1f%%\" % accuracy(test_prediction.eval(feed_dict={keep_prob : 1}), test_labels)"
   ]
  },
  {
   "cell_type": "code",
   "execution_count": 28,
   "metadata": {
    "collapsed": false
   },
   "outputs": [
    {
     "name": "stdout",
     "output_type": "stream",
     "text": [
      "Initialized\n",
      "Test accuracy: 95.5%\n"
     ]
    }
   ],
   "source": [
    "with tf.Session(graph=graph) as session:\n",
    "  tf.initialize_all_variables().run()\n",
    "  saver.restore(session,'conv_param4-10000')\n",
    "  print \"Initialized\"\n",
    "  print \"Test accuracy: %.1f%%\" % accuracy(test_prediction.eval(feed_dict={keep_prob : 1}), test_labels)"
   ]
  },
  {
   "cell_type": "markdown",
   "metadata": {
    "colab_type": "text",
    "id": "KedKkn4EutIK"
   },
   "source": [
    "---\n",
    "Problem 1\n",
    "---------\n",
    "\n",
    "The convolutional model above uses convolutions with stride 2 to reduce the dimensionality. Replace the strides a max pooling operation (`nn.max_pool()`) of stride 2 and kernel size 2.\n",
    "\n",
    "---"
   ]
  },
  {
   "cell_type": "markdown",
   "metadata": {
    "colab_type": "text",
    "id": "klf21gpbAgb-"
   },
   "source": [
    "---\n",
    "Problem 2\n",
    "---------\n",
    "\n",
    "Try to get the best performance you can using a convolutional net. Look for example at the classic [LeNet5](http://yann.lecun.com/exdb/lenet/) architecture, adding Dropout, and/or adding learning rate decay.\n",
    "\n",
    "---"
   ]
  }
 ],
 "metadata": {
  "colabVersion": "0.3.2",
  "colab_default_view": {},
  "colab_views": {},
  "kernelspec": {
   "display_name": "Python 2",
   "language": "python",
   "name": "python2"
  },
  "language_info": {
   "codemirror_mode": {
    "name": "ipython",
    "version": 2
   },
   "file_extension": ".py",
   "mimetype": "text/x-python",
   "name": "python",
   "nbconvert_exporter": "python",
   "pygments_lexer": "ipython2",
   "version": "2.7.11"
  }
 },
 "nbformat": 4,
 "nbformat_minor": 0
}

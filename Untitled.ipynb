{
 "cells": [
  {
   "cell_type": "code",
   "execution_count": 3,
   "metadata": {
    "collapsed": true
   },
   "outputs": [],
   "source": [
    "add2 = lambda x,y : x+y"
   ]
  },
  {
   "cell_type": "code",
   "execution_count": 4,
   "metadata": {
    "collapsed": false
   },
   "outputs": [
    {
     "data": {
      "text/plain": [
       "3"
      ]
     },
     "execution_count": 4,
     "metadata": {},
     "output_type": "execute_result"
    }
   ],
   "source": [
    "add2(1,2)"
   ]
  },
  {
   "cell_type": "code",
   "execution_count": 8,
   "metadata": {
    "collapsed": false
   },
   "outputs": [],
   "source": [
    "from datetime import datetime"
   ]
  },
  {
   "cell_type": "code",
   "execution_count": 9,
   "metadata": {
    "collapsed": false
   },
   "outputs": [
    {
     "data": {
      "text/plain": [
       "datetime.datetime(2016, 8, 15, 16, 26, 48, 444459)"
      ]
     },
     "execution_count": 9,
     "metadata": {},
     "output_type": "execute_result"
    }
   ],
   "source": [
    "datetime.now()"
   ]
  },
  {
   "cell_type": "code",
   "execution_count": 14,
   "metadata": {
    "collapsed": false
   },
   "outputs": [
    {
     "data": {
      "text/plain": [
       "'20160815-163014'"
      ]
     },
     "execution_count": 14,
     "metadata": {},
     "output_type": "execute_result"
    }
   ],
   "source": [
    "datetime.strftime(datetime.now(), '%Y%m%d-%H%M%S')"
   ]
  },
  {
   "cell_type": "code",
   "execution_count": 15,
   "metadata": {
    "collapsed": true
   },
   "outputs": [],
   "source": [
    "import importlib"
   ]
  },
  {
   "cell_type": "code",
   "execution_count": 16,
   "metadata": {
    "collapsed": true
   },
   "outputs": [],
   "source": [
    "importlib.import_module"
   ]
  },
  {
   "cell_type": "code",
   "execution_count": 17,
   "metadata": {
    "collapsed": true
   },
   "outputs": [],
   "source": [
    "import numpy"
   ]
  },
  {
   "cell_type": "code",
   "execution_count": 20,
   "metadata": {
    "collapsed": false
   },
   "outputs": [],
   "source": [
    "numpy.stack?"
   ]
  },
  {
   "cell_type": "code",
   "execution_count": 1,
   "metadata": {
    "collapsed": true
   },
   "outputs": [],
   "source": [
    "from scipy import misc"
   ]
  },
  {
   "cell_type": "code",
   "execution_count": 2,
   "metadata": {
    "collapsed": false
   },
   "outputs": [
    {
     "data": {
      "text/plain": [
       "array([[[ 7,  7, 19],\n",
       "        [ 7,  6, 18],\n",
       "        [ 8,  6, 17],\n",
       "        ..., \n",
       "        [ 2,  6, 14],\n",
       "        [ 2,  6, 15],\n",
       "        [ 2,  6, 15]],\n",
       "\n",
       "       [[ 7,  6, 19],\n",
       "        [ 7,  6, 18],\n",
       "        [ 8,  6, 17],\n",
       "        ..., \n",
       "        [ 2,  6, 14],\n",
       "        [ 2,  6, 15],\n",
       "        [ 2,  6, 15]],\n",
       "\n",
       "       [[ 7,  6, 19],\n",
       "        [ 7,  6, 18],\n",
       "        [ 8,  5, 17],\n",
       "        ..., \n",
       "        [ 2,  6, 14],\n",
       "        [ 2,  6, 15],\n",
       "        [ 2,  6, 15]],\n",
       "\n",
       "       ..., \n",
       "       [[ 5,  5,  3],\n",
       "        [ 5,  5,  3],\n",
       "        [ 5,  5,  3],\n",
       "        ..., \n",
       "        [ 5,  2,  1],\n",
       "        [ 6,  2,  1],\n",
       "        [ 6,  2,  1]],\n",
       "\n",
       "       [[ 5,  5,  3],\n",
       "        [ 5,  5,  3],\n",
       "        [ 5,  5,  3],\n",
       "        ..., \n",
       "        [17, 13, 13],\n",
       "        [20, 16, 15],\n",
       "        [24, 20, 19]],\n",
       "\n",
       "       [[ 5,  5,  3],\n",
       "        [ 5,  5,  3],\n",
       "        [ 5,  5,  3],\n",
       "        ..., \n",
       "        [31, 27, 26],\n",
       "        [38, 34, 33],\n",
       "        [45, 41, 40]]], dtype=uint8)"
      ]
     },
     "execution_count": 2,
     "metadata": {},
     "output_type": "execute_result"
    }
   ],
   "source": [
    "misc.imread('/home/mcg/machine-learning/origin/facenet/facenet/data/test_picture/Adam_Copeland/00000456.png')"
   ]
  },
  {
   "cell_type": "code",
   "execution_count": null,
   "metadata": {
    "collapsed": false
   },
   "outputs": [
    {
     "name": "stdout",
     "output_type": "stream",
     "text": [
      "> /home/mcg/anaconda2/lib/python2.7/site-packages/scipy/misc/pilutil.py(154)imread()\n",
      "-> im = Image.open(name)\n",
      "(Pdb) l\n",
      "149  \t    converted according to `mode`, and the result is then flattened using\n",
      "150  \t    mode 'F'.\n",
      "151  \t\n",
      "152  \t    \"\"\"\n",
      "153  \t    pdb.set_trace()\n",
      "154  ->\t    im = Image.open(name)\n",
      "155  \t    return fromimage(im, flatten=flatten, mode=mode)\n",
      "156  \t\n",
      "157  \t\n",
      "158  \tdef imsave(name, arr, format=None):\n",
      "159  \t    \"\"\"\n"
     ]
    }
   ],
   "source": [
    "img = misc.imread('/home/mcg/machine-learning/data/lfw_funneled/Abel_Pacheco/Abel_Pacheco_0001.jpg')"
   ]
  },
  {
   "cell_type": "code",
   "execution_count": 4,
   "metadata": {
    "collapsed": false
   },
   "outputs": [
    {
     "data": {
      "text/plain": [
       "array([[ 73,  69,  64, ...,   0,   0,   0],\n",
       "       [103, 102, 101, ...,   0,   0,   0],\n",
       "       [ 97,  96,  98, ...,   0,   0,   0],\n",
       "       ..., \n",
       "       [ 12,  11,  11, ...,   0,   0,   0],\n",
       "       [ 11,  11,  11, ...,   0,   0,   0],\n",
       "       [ 11,  11,  11, ...,   0,   0,   0]], dtype=uint8)"
      ]
     },
     "execution_count": 4,
     "metadata": {},
     "output_type": "execute_result"
    }
   ],
   "source": [
    "img[:,:,2]\n"
   ]
  },
  {
   "cell_type": "code",
   "execution_count": null,
   "metadata": {
    "collapsed": true
   },
   "outputs": [],
   "source": []
  }
 ],
 "metadata": {
  "kernelspec": {
   "display_name": "Python 2",
   "language": "python",
   "name": "python2"
  },
  "language_info": {
   "codemirror_mode": {
    "name": "ipython",
    "version": 2
   },
   "file_extension": ".py",
   "mimetype": "text/x-python",
   "name": "python",
   "nbconvert_exporter": "python",
   "pygments_lexer": "ipython2",
   "version": "2.7.11"
  }
 },
 "nbformat": 4,
 "nbformat_minor": 0
}
